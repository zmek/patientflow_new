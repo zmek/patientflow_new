{
 "cells": [
  {
   "cell_type": "markdown",
   "metadata": {},
   "source": [
    "# Introducing our users\n",
    "\n",
    "In this notebook, we introduce the end-users for whom the modelling in this repo has been developed. We discuss\n",
    "\n",
    "- what we mean by patient flow\n",
    "- the users of patient flow analytics\n",
    "- what these users need from a predictive model\n",
    "\n",
    "## What do we mean by patient flow?\n",
    "\n",
    "Patient flow refers to the movement of patients through a hospital, from entry (via the emergency department or planned admission) to discharge. Effective management of patient flow ensures timely and appropriate care for each patient, without undue delays, within the constraints of available beds and other resources. Delays to discharge causing backlogs for incoming patients exemplify poor patient flow.\n",
    "\n",
    "A team of bed managers typically takes primary responsibility for managing patient flow, although it is a shared responsibility across the hospital, involving everyone from porters and cleaners to matrons and consultants. To manage flow, bed managers:\n",
    "\n",
    "- Track hospital capacity, including the number of staffed beds available for patient care.\n",
    "- Anticipate pressures within different specialty areas of the hospital.\n",
    "- Take action to alleviate such pressures, such as opening additional beds or diverting ambulances in extreme cases.\n",
    "- Identify reasons for patient waiting and address these delays.\n",
    "\n",
    "Bed managers are usually senior nurses with a good understanding of each patient's likely care needs. Their work involves responding to rapidly changing situations caused by delays in patient care, infection outbreaks, excess demand for beds, and other incidents.\n",
    "\n",
    "A key tool in managing patient flow is \"flow huddles.\" These are site-wide meetings where emergency department staff, ward staff, and bed managers discuss incoming emergency patients, provision for elective patients, and review which patients are likely to be discharged and when.\n",
    "\n",
    "## What do we mean by patient flow analytics? \n",
    "\n",
    "These decisions depend on having a clear picture of current capacity and imminent pressures.  Bed managers like to anticipate the number of available beds at the end of the day or shift. For this they use simple rules of thumb to indicate how many admissions and discharges to plan for.  Gaining that picture often involves manual curation and/or validation of data in the Electronic Health Record (EHR), and frequent meetings with ward managers. 'flow huddles'. UCLH coordinates site-wide meetings in which ED staff, ward staff and bed managers discuss incoming emergency patients, provision for elective patients, and review which patients are likely to be discharged, by when. \n",
    "\n",
    "Patient flow analytics refers to the use of real-time data and predictive modelling to augment bed managers' information, given them better informed understanding of the short-term future state of the hospital. \n",
    "\n",
    "## What are our users' needs from a predictive model?\n",
    "\n",
    "We spent several years getting to know our the bed managers at UCLH. We learned \n",
    "\n",
    "* They want information at specific times of day to coincide with the flow huddles, with an 8-hour view of incoming demand at these times\n",
    "* THey are more concerned about overall bed numbers than whether any individual patient will be admitted\n",
    "* A breakdown by speciality of admission is more actionable than overall numbers for the whole hospital\n",
    "* That incremental value from predictive models of demand will be for patients without decisions to admit, and or those yet to arrive\n",
    "* Use email and spreadsheets for communication, both to receive information and to communicate about the hospital bed capacity \n",
    "\n",
    "These requirements informed our design of the modelling of emergency demand. See [this notebook](notebooks/notebooks/2%20Introducing%20emergency%20demand%20and%20its%20modelling.ipynb) for an outline of our modelling decisions. \n",
    "\n",
    "For more information about how we tailored the UCLH application to meet these needs, see [this talk](https://www.youtube.com/watch?v=1V1IzWmOyX8) by Dr Zella King of UCL and Craig Wood, bed manager at UCLH \n",
    "\n"
   ]
  },
  {
   "cell_type": "markdown",
   "metadata": {},
   "source": []
  }
 ],
 "metadata": {
  "kernelspec": {
   "display_name": "env",
   "language": "python",
   "name": "python3"
  },
  "language_info": {
   "name": "python",
   "version": "3.12.2"
  }
 },
 "nbformat": 4,
 "nbformat_minor": 2
}
