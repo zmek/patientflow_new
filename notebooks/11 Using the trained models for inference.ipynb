{
 "cells": [
  {
   "cell_type": "code",
   "execution_count": null,
   "id": "e490b3f0-671b-4706-8f5e-ae26eaebb30c",
   "metadata": {
    "execution": {
     "iopub.execute_input": "2024-04-19T17:15:32.366248Z",
     "iopub.status.busy": "2024-04-19T17:15:32.365952Z",
     "iopub.status.idle": "2024-04-19T17:15:32.403009Z",
     "shell.execute_reply": "2024-04-19T17:15:32.401645Z",
     "shell.execute_reply.started": "2024-04-19T17:15:32.366215Z"
    },
    "tags": []
   },
   "outputs": [],
   "source": [
    "# Reload functions every time\n",
    "%load_ext autoreload \n",
    "%autoreload 2"
   ]
  },
  {
   "cell_type": "code",
   "execution_count": null,
   "id": "d38f9ad6-0afe-4bf5-ac95-7152726a6094",
   "metadata": {
    "execution": {
     "iopub.execute_input": "2024-04-19T17:15:34.056139Z",
     "iopub.status.busy": "2024-04-19T17:15:34.055678Z",
     "iopub.status.idle": "2024-04-19T17:15:34.768243Z",
     "shell.execute_reply": "2024-04-19T17:15:34.767193Z",
     "shell.execute_reply.started": "2024-04-19T17:15:34.056105Z"
    },
    "tags": []
   },
   "outputs": [],
   "source": [
    "from pathlib import Path\n",
    "from datetime import datetime\n",
    "import pandas as pd\n",
    "import sys\n",
    "\n",
    "\n",
    "PROJECT_ROOT = Path().home() / 'HyMind'\n",
    "\n",
    "# Patient flow package\n",
    "USER_ROOT = Path().home()\n",
    "sys.path.append(str(USER_ROOT / 'patientflow' / 'patientflow' ))\n",
    "\n",
    "# Functions that sit outside the package\n",
    "sys.path.append(str(USER_ROOT / 'patientflow' / 'functions' ))\n",
    "\n",
    "\n"
   ]
  },
  {
   "cell_type": "code",
   "execution_count": null,
   "id": "1da9d988-8b1d-4dc2-8984-f0d2c75526a9",
   "metadata": {
    "execution": {
     "iopub.execute_input": "2024-04-19T17:20:08.680268Z",
     "iopub.status.busy": "2024-04-19T17:20:08.679855Z",
     "iopub.status.idle": "2024-04-19T17:20:08.735076Z",
     "shell.execute_reply": "2024-04-19T17:20:08.734059Z",
     "shell.execute_reply.started": "2024-04-19T17:20:08.680234Z"
    },
    "tags": []
   },
   "outputs": [],
   "source": [
    "data_file_path = PROJECT_ROOT / 'dissemination' / 'data-raw'\n",
    "data_file_path\n",
    "\n",
    "model_file_path = PROJECT_ROOT / 'dissemination' / 'model-output' / 'trained-models'\n",
    "model_file_path.mkdir(parents=True, exist_ok=True)\n",
    "\n"
   ]
  },
  {
   "cell_type": "markdown",
   "id": "31eb4fc7-91b0-4f33-bef2-4e6880d3bbf2",
   "metadata": {},
   "source": [
    "## Example of using this model for inference"
   ]
  },
  {
   "cell_type": "code",
   "execution_count": null,
   "id": "25dfb8b6-b353-473b-8ffc-fda54b80b604",
   "metadata": {
    "execution": {
     "iopub.execute_input": "2024-04-29T19:55:38.850711Z",
     "iopub.status.busy": "2024-04-29T19:55:38.850147Z",
     "iopub.status.idle": "2024-04-29T19:55:41.803329Z",
     "shell.execute_reply": "2024-04-29T19:55:41.802345Z",
     "shell.execute_reply.started": "2024-04-29T19:55:38.850674Z"
    },
    "tags": []
   },
   "outputs": [],
   "source": [
    "# load the admissions dataset set and pick a random date for inference\n",
    "from ed_admissions_data_retrieval import ed_admissions_get_data\n",
    "\n",
    "PATH_ED = 'HyMind/dissemination/data-raw/ED_visits.csv'\n",
    "df = ed_admissions_get_data(PATH_ED)\n",
    "\n",
    "# Load speciality dataset\n",
    "path_spec_data = 'HyMind/dissemination/data-raw/specialty.csv'\n",
    "df_spec = ed_admissions_get_data(path_spec_data)\n",
    "\n",
    "prediction_time_ = (12, 0)\n",
    "random_snapshot_datetime = df.loc[df.training_validation_test == 'test', 'snapshot_datetime'].sample(n=1, random_state=42).iloc[0]\n",
    "\n",
    "episode_slices_df = df[(df.snapshot_datetime == random_snapshot_datetime) & (df.prediction_time == prediction_time_) & (df.current_ed_location != 'OTF')].copy()\n",
    "slice_datetime = datetime.strptime(f'{random_snapshot_datetime} {12}:{0}', '%Y-%m-%d %H:%M')"
   ]
  },
  {
   "cell_type": "code",
   "execution_count": null,
   "id": "4f930bc5-fe01-4b7d-a401-b8ff9de8c6ef",
   "metadata": {
    "execution": {
     "iopub.execute_input": "2024-04-29T19:55:42.664975Z",
     "iopub.status.busy": "2024-04-29T19:55:42.664554Z",
     "iopub.status.idle": "2024-04-29T19:55:42.748455Z",
     "shell.execute_reply": "2024-04-29T19:55:42.747038Z",
     "shell.execute_reply.started": "2024-04-29T19:55:42.664941Z"
    },
    "tags": []
   },
   "outputs": [],
   "source": [
    "df.head()"
   ]
  },
  {
   "cell_type": "markdown",
   "id": "4780ec49-4f79-40cc-afd5-2bb2011f8d88",
   "metadata": {},
   "source": [
    "#### Merge ED admissions data with specialty data\n",
    "\n",
    "In our local implementation, the consults data are loaded with the other data at inference time. Therefore to replicate that here, we will merge the two datasets together"
   ]
  },
  {
   "cell_type": "code",
   "execution_count": null,
   "id": "a7b52fc3-78c5-45a5-afe9-23acfea26c59",
   "metadata": {
    "execution": {
     "iopub.execute_input": "2024-04-29T20:00:03.619906Z",
     "iopub.status.busy": "2024-04-29T20:00:03.618832Z",
     "iopub.status.idle": "2024-04-29T20:00:03.713948Z",
     "shell.execute_reply": "2024-04-29T20:00:03.712893Z",
     "shell.execute_reply.started": "2024-04-29T20:00:03.619865Z"
    },
    "tags": []
   },
   "outputs": [],
   "source": [
    "# episode_slices_df\n",
    "episode_slices_df = pd.merge( episode_slices_df, df_spec[['snapshot_id', 'consultation_sequence']],how = 'left')"
   ]
  },
  {
   "cell_type": "code",
   "execution_count": null,
   "id": "0755f82b-9446-4a36-a09b-f3a1ceab6ff0",
   "metadata": {
    "execution": {
     "iopub.execute_input": "2024-04-19T17:19:13.628713Z",
     "iopub.status.busy": "2024-04-19T17:19:13.628297Z",
     "iopub.status.idle": "2024-04-19T17:19:13.734448Z",
     "shell.execute_reply": "2024-04-19T17:19:13.718001Z",
     "shell.execute_reply.started": "2024-04-19T17:19:13.628680Z"
    },
    "tags": []
   },
   "outputs": [],
   "source": [
    "# Load the prediction window saved in the config file\n",
    "import yaml\n",
    "\n",
    "config_path = Path(PROJECT_ROOT / 'dissemination' )\n",
    "\n",
    "with open(config_path / 'config.yaml', 'r') as file:\n",
    "    config = yaml.safe_load(file)\n",
    "    \n",
    "prediction_window = str(int(config['prediction_window']/60))\n",
    "\n"
   ]
  },
  {
   "cell_type": "code",
   "execution_count": null,
   "id": "e60cba15-fb3c-42d4-81b1-977956acfe78",
   "metadata": {
    "execution": {
     "iopub.execute_input": "2024-05-02T17:31:31.815871Z",
     "iopub.status.busy": "2024-05-02T17:31:31.815452Z",
     "iopub.status.idle": "2024-05-02T17:31:40.353398Z",
     "shell.execute_reply": "2024-05-02T17:31:40.344485Z",
     "shell.execute_reply.started": "2024-05-02T17:31:31.815837Z"
    },
    "tags": []
   },
   "outputs": [],
   "source": [
    "from ed_admissions_realtime_preds import create_predictions\n",
    "\n",
    "specialties = ['medical', 'surgical', 'haem_onc', 'paediatric']\n",
    "cdf_cut_points = [0.9, 0.7]\n",
    "\n",
    "create_predictions(model_file_path, slice_datetime, episode_slices_df, specialties, prediction_window, cdf_cut_points) \n"
   ]
  },
  {
   "cell_type": "code",
   "execution_count": null,
   "id": "d20b9f96-efe3-4f04-9491-398a1cd6a083",
   "metadata": {},
   "outputs": [],
   "source": []
  }
 ],
 "metadata": {
  "kernelspec": {
   "display_name": "Python 3",
   "language": "python",
   "name": "python3"
  },
  "language_info": {
   "codemirror_mode": {
    "name": "ipython",
    "version": 3
   },
   "file_extension": ".py",
   "mimetype": "text/x-python",
   "name": "python",
   "nbconvert_exporter": "python",
   "pygments_lexer": "ipython3",
   "version": "3.9.5"
  }
 },
 "nbformat": 4,
 "nbformat_minor": 5
}
