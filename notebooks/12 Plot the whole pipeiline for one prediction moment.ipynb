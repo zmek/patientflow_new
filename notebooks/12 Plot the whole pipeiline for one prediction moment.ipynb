{
 "cells": [
  {
   "cell_type": "markdown",
   "id": "d87f726e-07ed-402c-b2f6-9b9f6fa7c597",
   "metadata": {},
   "source": []
  },
  {
   "cell_type": "code",
   "execution_count": null,
   "id": "81b46f9c-2436-4dc6-a3dd-9bc9fa744d8d",
   "metadata": {
    "execution": {
     "iopub.execute_input": "2024-05-16T17:26:46.264573Z",
     "iopub.status.busy": "2024-05-16T17:26:46.264286Z",
     "iopub.status.idle": "2024-05-16T17:26:46.320948Z",
     "shell.execute_reply": "2024-05-16T17:26:46.319366Z",
     "shell.execute_reply.started": "2024-05-16T17:26:46.264540Z"
    },
    "tags": []
   },
   "outputs": [],
   "source": [
    "# Reload functions every time\n",
    "%load_ext autoreload \n",
    "%autoreload 2"
   ]
  },
  {
   "cell_type": "code",
   "execution_count": null,
   "id": "8c90f03e-846d-4f70-93ce-4f26230bbd81",
   "metadata": {
    "execution": {
     "iopub.execute_input": "2024-05-16T17:26:47.775775Z",
     "iopub.status.busy": "2024-05-16T17:26:47.775305Z",
     "iopub.status.idle": "2024-05-16T17:26:48.662966Z",
     "shell.execute_reply": "2024-05-16T17:26:48.661608Z",
     "shell.execute_reply.started": "2024-05-16T17:26:47.775740Z"
    },
    "tags": []
   },
   "outputs": [],
   "source": [
    "from pathlib import Path\n",
    "import sys\n",
    "import json\n",
    "import pandas as pd\n",
    "import numpy as np\n",
    "import os\n",
    "\n",
    "\n",
    "PROJECT_ROOT = Path().home() / 'HyMind'\n",
    "\n",
    "# Patient flow package\n",
    "USER_ROOT = Path().home()\n",
    "sys.path.append(str(USER_ROOT / 'patientflow' / 'patientflow' ))\n",
    "\n",
    "# Functions that sit outside the package\n",
    "sys.path.append(str(USER_ROOT / 'patientflow' / 'functions' ))\n"
   ]
  },
  {
   "cell_type": "code",
   "execution_count": null,
   "id": "1b8fecb3-b440-48f9-a90f-43438b37cafe",
   "metadata": {
    "execution": {
     "iopub.execute_input": "2024-05-16T17:32:16.596154Z",
     "iopub.status.busy": "2024-05-16T17:32:16.595683Z",
     "iopub.status.idle": "2024-05-16T17:32:16.652627Z",
     "shell.execute_reply": "2024-05-16T17:32:16.651088Z",
     "shell.execute_reply.started": "2024-05-16T17:32:16.596116Z"
    },
    "tags": []
   },
   "outputs": [],
   "source": [
    "\n",
    "\n",
    "# data_file_path = PROJECT_ROOT / 'dissemination' / 'data-raw'\n",
    "# data_file_path\n",
    "\n",
    "model_file_path = PROJECT_ROOT / 'dissemination' / 'model-output' / 'trained-models'\n",
    "\n",
    "media_file_path = PROJECT_ROOT / 'dissemination' / 'media' \n",
    "media_file_path.mkdir(parents=True, exist_ok=True)"
   ]
  },
  {
   "cell_type": "markdown",
   "id": "8aad900e-1687-453e-808a-20ede2e6f6e5",
   "metadata": {},
   "source": [
    "## Load parameters\n",
    "\n",
    "These are set in config.json. You can change these for your own purposes. But the times of day will need to match those in the provided dataset if you want to run this notebook successfully."
   ]
  },
  {
   "cell_type": "code",
   "execution_count": null,
   "id": "35058e52-d335-491d-8568-814f8cb5ead3",
   "metadata": {
    "execution": {
     "iopub.execute_input": "2024-05-16T17:27:08.199930Z",
     "iopub.status.busy": "2024-05-16T17:27:08.198133Z",
     "iopub.status.idle": "2024-05-16T17:27:08.264731Z",
     "shell.execute_reply": "2024-05-16T17:27:08.263713Z",
     "shell.execute_reply.started": "2024-05-16T17:27:08.199891Z"
    },
    "tags": []
   },
   "outputs": [],
   "source": [
    "# Load the times of day\n",
    "import yaml\n",
    "\n",
    "config_path = Path(PROJECT_ROOT / 'dissemination' )\n",
    "\n",
    "with open(config_path / 'config.yaml', 'r') as file:\n",
    "    config = yaml.safe_load(file)\n",
    "    \n",
    "# Convert list of times of day at which predictions will be made (currently stored as lists) to list of tuples\n",
    "tod = [tuple(item) for item in config['tod']]\n",
    "\n",
    "# See the times of day at which predictions will be made\n",
    "tod\n",
    "\n",
    "x1 = float(config['x1'])\n",
    "y1 = float(config['y1'])\n",
    "x2 = float(config['x2'])\n",
    "y2 = float(config['y2'])\n",
    "\n",
    "# time_window = config['time_window']\n",
    "time_window = 480"
   ]
  },
  {
   "cell_type": "markdown",
   "id": "f7ab7256-b4fd-4033-bb3c-504e310d3c21",
   "metadata": {
    "tags": []
   },
   "source": [
    "# Load data and select snapshot to plot"
   ]
  },
  {
   "cell_type": "code",
   "execution_count": null,
   "id": "eeca8945-df02-46cf-8c92-9d47efc94fbe",
   "metadata": {
    "execution": {
     "iopub.execute_input": "2024-05-16T17:27:11.882904Z",
     "iopub.status.busy": "2024-05-16T17:27:11.881897Z",
     "iopub.status.idle": "2024-05-16T17:27:14.548375Z",
     "shell.execute_reply": "2024-05-16T17:27:14.547371Z",
     "shell.execute_reply.started": "2024-05-16T17:27:11.882861Z"
    },
    "tags": []
   },
   "outputs": [],
   "source": [
    "from ed_admissions_data_retrieval import ed_admissions_get_data\n",
    "PATH_ED = 'HyMind/dissemination/data-raw/ED_visits.csv'\n",
    "df = ed_admissions_get_data(PATH_ED)\n",
    "if df.index.name != 'episode_slice_id':\n",
    "    df = df.set_index('episode_slice_id')"
   ]
  },
  {
   "cell_type": "code",
   "execution_count": null,
   "id": "2c9df8c1-7348-4b96-8bd9-1e46a9311842",
   "metadata": {
    "execution": {
     "iopub.execute_input": "2024-05-16T17:27:14.550956Z",
     "iopub.status.busy": "2024-05-16T17:27:14.550630Z",
     "iopub.status.idle": "2024-05-16T17:27:14.775780Z",
     "shell.execute_reply": "2024-05-16T17:27:14.774749Z",
     "shell.execute_reply.started": "2024-05-16T17:27:14.550924Z"
    }
   },
   "outputs": [],
   "source": [
    "\n",
    "PATH_SPEC = 'HyMind/dissemination/data-raw/specialty.csv'\n",
    "df_spec = ed_admissions_get_data(PATH_SPEC)\n",
    "\n",
    "if df_spec.index.name != 'episode_slice_id':\n",
    "    df_spec = df_spec.set_index('episode_slice_id')"
   ]
  },
  {
   "cell_type": "code",
   "execution_count": null,
   "id": "4913eac5-8a97-4d02-b7d9-b481eca480b5",
   "metadata": {
    "execution": {
     "iopub.execute_input": "2024-05-16T17:28:54.942174Z",
     "iopub.status.busy": "2024-05-16T17:28:54.941610Z",
     "iopub.status.idle": "2024-05-16T17:28:55.100587Z",
     "shell.execute_reply": "2024-05-16T17:28:55.099529Z",
     "shell.execute_reply.started": "2024-05-16T17:28:54.942138Z"
    },
    "tags": []
   },
   "outputs": [],
   "source": [
    "# pick a random horizon_dt and time of day in the test set\n",
    "tod_ = tod[3]\n",
    "random_horizon_dt = df.loc[df.training_validation_test == 'test', 'horizon_dt'].sample(n=1, random_state=42).iloc[0]\n",
    "\n",
    "hour_, min_ = tod_\n",
    "min_ = f\"{min_}0\" if min_ % 60 == 0 else str(min_)\n",
    "horizon_datetime = random_horizon_dt + ' '+ str(hour_) + '-' + str(min_ )\n",
    "\n",
    "# create folder to save the plots in\n",
    "full_file_path = media_file_path / horizon_datetime / 'full'\n",
    "pipeline_file_path = media_file_path / horizon_datetime / 'pipeline'\n",
    "os.makedirs(pipeline_file_path, exist_ok=True)\n",
    "os.makedirs(full_file_path, exist_ok=True)\n",
    "\n",
    "# get the data for this random time\n",
    "ex = df[(df.horizon_dt == random_horizon_dt) & (df.time_of_day == tod_) & (df.current_ed_location != 'OTF')].copy()\n",
    "\n",
    "# reduce number of locations for presentation purposes\n",
    "mapping = {'UTC': 'Minors', \n",
    "           'MAJORS': 'Majors/Resus', \n",
    "           'SDEC': 'Other', \n",
    "           'PAEDS': 'Other', \n",
    "           'Waiting': 'Other', \n",
    "           'RAT': 'Majors/Resus', \n",
    "           'SDEC_Waiting': 'Other', \n",
    "           'RESUS' : 'Majors/Resus',\n",
    "            'OTF' : 'Other'}\n",
    "\n",
    "categories = ['Majors/Resus', 'Minors', 'Other']  # Define order\n",
    "\n",
    "ex['loc_new'] = ex['current_ed_location'].map(mapping)\n",
    "ex['loc_new'] = pd.Categorical(ex['loc_new'], categories=categories, ordered=True)\n"
   ]
  },
  {
   "cell_type": "code",
   "execution_count": null,
   "id": "11d2370e-ab69-4201-8ece-c7f86b12f4fb",
   "metadata": {
    "execution": {
     "iopub.execute_input": "2024-05-16T17:38:35.283323Z",
     "iopub.status.busy": "2024-05-16T17:38:35.280476Z",
     "iopub.status.idle": "2024-05-16T17:38:35.340683Z",
     "shell.execute_reply": "2024-05-16T17:38:35.339533Z",
     "shell.execute_reply.started": "2024-05-16T17:38:35.283279Z"
    }
   },
   "outputs": [],
   "source": [
    "full_file_path"
   ]
  },
  {
   "cell_type": "markdown",
   "id": "d4e2b522-0851-4735-af8a-a593b1d0cd8f",
   "metadata": {},
   "source": [
    "## Set up plot"
   ]
  },
  {
   "cell_type": "code",
   "execution_count": null,
   "id": "01bc696a-c48d-4a33-a5da-40c9002f5f39",
   "metadata": {
    "execution": {
     "iopub.execute_input": "2024-05-16T17:43:33.377552Z",
     "iopub.status.busy": "2024-05-16T17:43:33.376789Z",
     "iopub.status.idle": "2024-05-16T17:43:33.439437Z",
     "shell.execute_reply": "2024-05-16T17:43:33.438410Z",
     "shell.execute_reply.started": "2024-05-16T17:43:33.377498Z"
    },
    "tags": []
   },
   "outputs": [],
   "source": [
    "# set plot parameters\n",
    "figsize_global = tuple([6,3])\n",
    "full_output = True\n",
    "\n",
    "from plot_pipeline import create_colour_dict\n",
    "spec_colour_dict = create_colour_dict()"
   ]
  },
  {
   "cell_type": "markdown",
   "id": "c80e064f-98ef-4b60-8b0a-41a48c599654",
   "metadata": {
    "tags": []
   },
   "source": [
    "## Figure a"
   ]
  },
  {
   "cell_type": "code",
   "execution_count": null,
   "id": "0717bbab-6fb1-46e5-8e10-52ea53359273",
   "metadata": {
    "execution": {
     "iopub.execute_input": "2024-05-16T17:43:33.441768Z",
     "iopub.status.busy": "2024-05-16T17:43:33.441319Z",
     "iopub.status.idle": "2024-05-16T17:43:33.932324Z",
     "shell.execute_reply": "2024-05-16T17:43:33.930952Z",
     "shell.execute_reply.started": "2024-05-16T17:43:33.441734Z"
    },
    "tags": []
   },
   "outputs": [],
   "source": [
    "from plot_pipeline import in_ED_now_plot\n",
    "\n",
    "title_ = f'Patients in ED at {horizon_datetime}' \n",
    "if full_output:    \n",
    "    in_ED_now_plot(full_file_path, 'Full Figure a', ex, horizon_datetime, figsize_global, title_, include_titles = True, size = 20)\n",
    "else:\n",
    "    in_ED_now_plot(pipeline_file_path, 'Figure a', ex, horizon_datetime, figsize_global, title_, text_size= 20)"
   ]
  },
  {
   "cell_type": "markdown",
   "id": "f5506dfa-8a27-4ea8-a3aa-3e7eba5b5572",
   "metadata": {
    "tags": []
   },
   "source": [
    "## Figure b"
   ]
  },
  {
   "cell_type": "code",
   "execution_count": null,
   "id": "e876b7af-9cc8-4609-a5f4-6065b834783d",
   "metadata": {
    "execution": {
     "iopub.execute_input": "2024-05-16T17:43:34.075267Z",
     "iopub.status.busy": "2024-05-16T17:43:34.074690Z",
     "iopub.status.idle": "2024-05-16T17:43:34.754685Z",
     "shell.execute_reply": "2024-05-16T17:43:34.753754Z",
     "shell.execute_reply.started": "2024-05-16T17:43:34.075228Z"
    },
    "tags": []
   },
   "outputs": [],
   "source": [
    "from ed_admissions_helper_functions import prepare_for_inference\n",
    "from predict.emergency_demand.from_individual_probs import model_input_to_pred_proba\n",
    "\n",
    "# load saved model\n",
    "model = prepare_for_inference(model_file_path = model_file_path, model_name = 'ed_admission', time_of_day = tod_, data_path = None, single_episode_slice_per_visit = False, model_only = True)\n",
    "\n",
    "# get probabilities\n",
    "episode_slices_in_ex = ex.index[(ex.horizon_dt == random_horizon_dt)]\n",
    "preds = model_input_to_pred_proba(ex, model)\n",
    "ex['preds'] = preds['pred_proba'].values\n",
    "\n",
    "title = f'Patients in ED at {horizon_datetime}' \n",
    "if full_output:\n",
    "    in_ED_now_plot(full_file_path, 'Full Figure b', ex, horizon_datetime, figsize_global, title_, include_titles = True, size = 20, colour = True, colour_map = 'Spectral_r')# spec_colour_dict['spectrum']['all'])\n",
    "else:\n",
    "    in_ED_now_plot(pipeline_file_path, 'Figure b', ex, horizon_datetime, figsize_global, title_, text_size= 20, colour = True, colour_map = 'Spectral_r')\n"
   ]
  },
  {
   "cell_type": "markdown",
   "id": "a604976c-cc63-418c-aa55-24b703cb3ae3",
   "metadata": {
    "tags": []
   },
   "source": [
    "## Figure c"
   ]
  },
  {
   "cell_type": "code",
   "execution_count": null,
   "id": "72eb8a86-d1a8-4b24-b2d1-9d542b689423",
   "metadata": {
    "execution": {
     "iopub.execute_input": "2024-05-16T17:43:34.757299Z",
     "iopub.status.busy": "2024-05-16T17:43:34.756947Z",
     "iopub.status.idle": "2024-05-16T17:43:40.469367Z",
     "shell.execute_reply": "2024-05-16T17:43:40.468405Z",
     "shell.execute_reply.started": "2024-05-16T17:43:34.757265Z"
    },
    "tags": []
   },
   "outputs": [],
   "source": [
    "from predict.emergency_demand.from_individual_probs import get_prob_dist\n",
    "from viz.prob_dist_plot import prob_dist_plot\n",
    "\n",
    "from ed_admissions_helper_functions import prepare_for_inference\n",
    "\n",
    "\n",
    "from ed_admissions_helper_functions import prepare_episode_slices_dict\n",
    "\n",
    "\n",
    "# prepare data \n",
    "X_test, y_test, model = prepare_for_inference(model_file_path, 'ed_admission', time_of_day = tod_, data_path = PATH_ED, single_episode_slice_per_visit = False)\n",
    "\n",
    "\n",
    "episode_slices_dict = prepare_episode_slices_dict(df[(df.training_validation_test == 'test') & (df.time_of_day == tod_) & (df.horizon_dt == random_horizon_dt)])\n",
    "prob_dist = get_prob_dist(\n",
    "    episode_slices_dict, X_test, y_test, model\n",
    ")\n",
    "\n",
    "if full_output:\n",
    "\n",
    "    title_ = f'Probability distribution for number of beds needed patients in ED at {random_horizon_dt} {hour_}-{min_}'\n",
    "    prob_dist_plot(prob_dist_data=prob_dist[random_horizon_dt]['pred_demand'], title_=title_, directory_path=full_file_path, figsize=figsize_global, include_titles=True, \n",
    "                   file_name = 'Full Figure c',\n",
    "                  bar_colour = spec_colour_dict['single']['all'])\n",
    "else:\n",
    "    title_ = 'Figure c'\n",
    "    prob_dist_plot(prob_dist_data=prob_dist[random_horizon_dt]['pred_demand'], title_=title_, directory_path=pipeline_file_path, figsize=figsize_global, text_size=20, file_name = 'Figure c',\n",
    "                  bar_colour = spec_colour_dict['single']['all'])\n"
   ]
  },
  {
   "cell_type": "markdown",
   "id": "f593a973-7734-43fa-831a-a98d2373eec0",
   "metadata": {
    "execution": {
     "iopub.execute_input": "2024-04-12T08:07:12.939200Z",
     "iopub.status.busy": "2024-04-12T08:07:12.938775Z",
     "iopub.status.idle": "2024-04-12T08:07:13.012279Z",
     "shell.execute_reply": "2024-04-12T08:07:13.009498Z",
     "shell.execute_reply.started": "2024-04-12T08:07:12.939156Z"
    },
    "tags": []
   },
   "source": [
    "### Figure d - currently done in powerpoint"
   ]
  },
  {
   "cell_type": "code",
   "execution_count": null,
   "id": "44c44a10-818c-4201-b69f-4441297e82fe",
   "metadata": {
    "execution": {
     "iopub.execute_input": "2024-05-16T17:43:40.471809Z",
     "iopub.status.busy": "2024-05-16T17:43:40.471492Z",
     "iopub.status.idle": "2024-05-16T17:43:40.541587Z",
     "shell.execute_reply": "2024-05-16T17:43:40.540619Z",
     "shell.execute_reply.started": "2024-05-16T17:43:40.471777Z"
    },
    "tags": []
   },
   "outputs": [],
   "source": [
    "specialty_model = prepare_for_inference(model_file_path, 'ed_specialty', model_only=True)\n",
    "\n",
    "weights = specialty_model.weights\n",
    "weights[tuple(['surgical'])]"
   ]
  },
  {
   "cell_type": "code",
   "execution_count": null,
   "id": "2825107d-25f8-4dda-8335-8180433c1fb2",
   "metadata": {},
   "outputs": [],
   "source": [
    "# df_admitted_with_spec = df[(df.is_admitted)].merge(df_spec[['episode_slice_id','consultation_sequence', 'observed_specialty']] , on='episode_slice_id', how='left')\n",
    "# df_admitted_with_spec.loc[df_admitted_with_spec.consultation_sequence.isnull(), 'consultation_sequence'] = 'None'\n",
    "\n",
    "# spec_dict = {}\n",
    "# spec_dict['-'] = spec_dict = {'-': {k[0].upper(): v for k, v in df_admitted_with_spec[df_admitted_with_spec.consultation_sequence == 'None']['observed_specialty'].value_counts(normalize=True).to_dict().items()}}\n",
    "\n",
    "\n",
    "# spec_dict['-']['-m'] = {k[0].upper(): v for k, v in df_admitted_with_spec[df_admitted_with_spec.consultation_sequence == \"('medical',)\"]['observed_specialty'].value_counts(normalize=True).to_dict().items()}\n",
    "# spec_dict['-']['-s'] = {k[0].upper(): v for k, v in df_admitted_with_spec[df_admitted_with_spec.consultation_sequence == \"('surgical',)\"]['observed_specialty'].value_counts(normalize=True).to_dict().items()}\n",
    "# spec_dict['-']['-h'] = {k[0].upper(): v for k, v in df_admitted_with_spec[df_admitted_with_spec.consultation_sequence == \"('haem_onc',)\"]['observed_specialty'].value_counts(normalize=True).to_dict().items()}\n",
    "# spec_dict#['-']['-m'].keys()\n"
   ]
  },
  {
   "cell_type": "markdown",
   "id": "c372dd37-4e56-48f4-9033-c7b32427bd22",
   "metadata": {
    "tags": []
   },
   "source": [
    "### Figure e - NOTE currently (I think) there is no data on consults for discharged patients"
   ]
  },
  {
   "cell_type": "code",
   "execution_count": null,
   "id": "ab6fd900-9096-4838-8c2a-d6b7a7884966",
   "metadata": {
    "execution": {
     "iopub.execute_input": "2024-05-13T15:55:50.294522Z",
     "iopub.status.busy": "2024-05-13T15:55:50.294105Z",
     "iopub.status.idle": "2024-05-13T15:55:50.366386Z",
     "shell.execute_reply": "2024-05-13T15:55:50.365152Z",
     "shell.execute_reply.started": "2024-05-13T15:55:50.294487Z"
    },
    "tags": []
   },
   "outputs": [],
   "source": [
    "ex[(ex.has_consult) & (ex.is_admitted)].index\n",
    "\n",
    "df_spec[ex[(ex.has_consult) & (ex.is_admitted)].index]"
   ]
  },
  {
   "cell_type": "code",
   "execution_count": null,
   "id": "d962f113-cf47-443b-aa88-98344f22a652",
   "metadata": {
    "execution": {
     "iopub.execute_input": "2024-05-16T17:43:51.847969Z",
     "iopub.status.busy": "2024-05-16T17:43:51.847366Z",
     "iopub.status.idle": "2024-05-16T17:43:57.265273Z",
     "shell.execute_reply": "2024-05-16T17:43:57.264348Z",
     "shell.execute_reply.started": "2024-05-16T17:43:51.847929Z"
    },
    "tags": []
   },
   "outputs": [],
   "source": [
    "from ed_admissions_data_retrieval import ed_admissions_get_data\n",
    "from ed_admissions_helper_functions import get_specialty_probs, prepare_episode_slices_dict\n",
    "\n",
    "\n",
    "child_age_group = '0-17'\n",
    "child_dict = {\n",
    "    'medical': 0.0,\n",
    "    'surgical': 0.0,\n",
    "    'haem_onc': 0.0,\n",
    "    'paediatric': 1.0\n",
    "}\n",
    "\n",
    "X_test, y_test, model = prepare_for_inference(model_file_path, 'ed_admission', time_of_day = tod_, data_path = PATH_ED, single_episode_slice_per_visit = False)\n",
    "episode_slices_dict = prepare_episode_slices_dict(df[(df.training_validation_test == 'test') & (df.time_of_day == tod_) & (df.horizon_dt == random_horizon_dt)])\n",
    "\n",
    "is_child_func = lambda row: row['age_group'] == '0-17' # or row['age'] <= 17\n",
    "\n",
    "spec = pd.merge(ex[['age_group']], df_spec[['consultation_sequence', 'observed_specialty']], left_index=True, right_index=True, how='left')\n",
    "spec['specialty_prob'] = get_specialty_probs(model_file_path, spec, special_category_func=is_child_func, special_category_dict=child_dict)\n",
    "\n",
    "specs =  ['medical', 'surgical', 'haem_onc', 'paediatric']\n",
    "spec = spec.assign(**{f'{key}_prob': spec['specialty_prob'].apply(lambda d: d.get(key)) for key in specs})\n",
    "\n",
    "# spec = pd.merge(ex['prob_admission_in_window'], spec, left_index=True, right_index=True, how='left')\n",
    "ex_spec = pd.merge(ex, spec, left_index=True, right_index=True, how='left')\n",
    "\n",
    "for spec_ in ['medical', 'surgical', 'haem_onc', 'paediatric']:\n",
    "\n",
    "    if full_output:    \n",
    "        title_ = 'Patients in ED at' \n",
    "        in_ED_now_plot(full_file_path, f'Full Figure e {spec_}', ex_spec, horizon_datetime, figsize_global, title_, include_titles = True, colour = True, colour_map = spec_colour_dict['spectrum'][spec_], \n",
    "                       size = 20, preds_col = f'{spec_}_prob', title_suffix = f'admission to {spec_} specialty')\n",
    "    else:\n",
    "        title_ = 'Figure e' \n",
    "        in_ED_now_plot(pipeline_file_path, f'Figure e {spec_}', ex_spec, horizon_datetime, figsize_global, title_, text_size= 20, colour = True, colour_map = spec_colour_dict['spectrum'][spec_], preds_col = f'{spec_}_prob')"
   ]
  },
  {
   "cell_type": "markdown",
   "id": "69712380-b2a5-41e2-962e-d2bccb101ccc",
   "metadata": {},
   "source": [
    "## Figure f"
   ]
  },
  {
   "cell_type": "code",
   "execution_count": null,
   "id": "0412ea36-9c5b-4048-ad6d-e42b0d7fa594",
   "metadata": {
    "execution": {
     "iopub.execute_input": "2024-05-16T17:43:57.267953Z",
     "iopub.status.busy": "2024-05-16T17:43:57.267538Z",
     "iopub.status.idle": "2024-05-16T17:44:05.642455Z",
     "shell.execute_reply": "2024-05-16T17:44:05.641221Z",
     "shell.execute_reply.started": "2024-05-16T17:43:57.267918Z"
    },
    "tags": []
   },
   "outputs": [],
   "source": [
    "prob_dist_spec = {}\n",
    "\n",
    "for spec_ in ['medical', 'surgical', 'haem_onc', 'paediatric']:\n",
    "    print(\"\\nProcessing probability of admission to:\" + spec_ )\n",
    "\n",
    "    # get the probability of admission to this specialty for all patients\n",
    "    weights = spec['specialty_prob'].apply(lambda x: x.get(spec_))\n",
    "\n",
    "    # select only the episode slices that pertain to children or adults, as appropriate\n",
    "    if spec_ == 'paediatric':\n",
    "        episode_slices_dict = prepare_episode_slices_dict(ex_spec[ex_spec.age_group_x == '0-17'])\n",
    "    else:\n",
    "        episode_slices_dict = prepare_episode_slices_dict(ex_spec[ex_spec.age_group_x != '0-17'])\n",
    "        \n",
    "    # get probability distribution for this time of day\n",
    "    prob_dist_spec[spec_] = get_prob_dist(\n",
    "        episode_slices_dict, X_test, y_test, model, weights\n",
    "    )\n",
    "\n",
    "for spec_ in ['medical', 'surgical', 'haem_onc', 'paediatric']:\n",
    "\n",
    "    if full_output:\n",
    "\n",
    "        title_ = f'Probability distribution for number of beds needed patients in ED at {random_horizon_dt} {hour_}-{min_} in {spec_} specialties'\n",
    "        prob_dist_plot(prob_dist_data=prob_dist_spec[spec_][random_horizon_dt]['pred_demand'], title_=title_, directory_path=full_file_path, figsize=figsize_global, include_titles=True, \n",
    "                       bar_colour= spec_colour_dict['single'][spec_], file_name = f'Full Figure f {spec_}')\n",
    "    else:\n",
    "        title_ = 'Figure f'\n",
    "        prob_dist_plot(prob_dist_data=prob_dist_spec[spec_][random_horizon_dt]['pred_demand'], title_=title_, directory_path=pipeline_file_path, figsize=figsize_global, text_size=20, \n",
    "                       bar_colour= spec_colour_dict['single'][spec_], file_name = f'Figure f {spec_}')"
   ]
  },
  {
   "cell_type": "markdown",
   "id": "af1cc6bd-7d77-4ad9-a095-eefa8551619a",
   "metadata": {
    "execution": {
     "iopub.execute_input": "2024-04-12T09:26:40.861154Z",
     "iopub.status.busy": "2024-04-12T09:26:40.860720Z",
     "iopub.status.idle": "2024-04-12T09:26:41.077420Z",
     "shell.execute_reply": "2024-04-12T09:26:41.075797Z",
     "shell.execute_reply.started": "2024-04-12T09:26:40.861120Z"
    }
   },
   "source": [
    "## Figure g "
   ]
  },
  {
   "cell_type": "code",
   "execution_count": null,
   "id": "21009258-aad5-45e1-9529-f59ba5061f71",
   "metadata": {
    "execution": {
     "iopub.execute_input": "2024-05-16T17:48:31.917929Z",
     "iopub.status.busy": "2024-05-16T17:48:31.916675Z",
     "iopub.status.idle": "2024-05-16T17:48:32.633671Z",
     "shell.execute_reply": "2024-05-16T17:48:32.632385Z",
     "shell.execute_reply.started": "2024-05-16T17:48:31.917885Z"
    },
    "tags": []
   },
   "outputs": [],
   "source": [
    "\n",
    "from predict.emergency_demand.admission_in_time_window_using_aspirational_curve import calculate_probability\n",
    "from viz.aspirational_curve_plot import plot_curve\n",
    "\n",
    "time_window_hrs = time_window/60\n",
    "ex_spec['elapsed_los_td_hrs'] = ex_spec['elapsed_los_td']/3600\n",
    "\n",
    "ex_spec['prob_adm_in_window'] = ex_spec.apply(lambda row: calculate_probability(row['elapsed_los_td_hrs'], time_window_hrs, x1 = 4, y1 = 0.76, x2 = 12, y2 = .99), axis=1)\n",
    "\n",
    "\n",
    "directory_path = media_file_path / horizon_datetime\n",
    "\n",
    "if full_output:\n",
    "\n",
    "    title_ = 'Aspirational curve reflecting a 4 hour target for 76% of patients\\nand a 12 hour target for 99% of patients'\n",
    "    plot_curve(full_file_path, figsize_global, title_, x1 = 4, y1 = .76, x2 = 12, y2 = 0.99, include_titles = True, file_name = 'Full Figure g')\n",
    "    \n",
    "else:\n",
    "    \n",
    "    title_ = 'Figure g'\n",
    "    plot_curve(pipeline_file_path, figsize_global, title_, x1 = 4, y1 = .76, x2 = 12, y2 = 0.99,  text_size = 20, file_name = 'Figure g')"
   ]
  },
  {
   "cell_type": "markdown",
   "id": "4193fbad-60d4-4722-b09c-af86765de94f",
   "metadata": {},
   "source": [
    "## Figure h"
   ]
  },
  {
   "cell_type": "code",
   "execution_count": null,
   "id": "22779b30-906d-4b28-8709-0ca8c0f35801",
   "metadata": {
    "execution": {
     "iopub.execute_input": "2024-05-16T17:50:03.090124Z",
     "iopub.status.busy": "2024-05-16T17:50:03.088535Z",
     "iopub.status.idle": "2024-05-16T17:50:03.673184Z",
     "shell.execute_reply": "2024-05-16T17:50:03.671923Z",
     "shell.execute_reply.started": "2024-05-16T17:50:03.090065Z"
    },
    "tags": []
   },
   "outputs": [],
   "source": [
    "if full_output:    \n",
    "    title_ = 'Patients in ED at' \n",
    "    in_ED_now_plot(full_file_path, 'Full figure h', ex_spec, horizon_datetime, figsize_global, title_, include_titles = True, colour = True, colour_map = spec_colour_dict['spectrum']['window'], size = 20, preds_col = 'prob_adm_in_window', \n",
    "                   title_suffix = 'admission within ' + str(int(time_window_hrs)) + ' hours')\n",
    "else:\n",
    "    title_ = 'Figure h' \n",
    "    in_ED_now_plot(pipeline_file_path, 'Figure h', ex_spec, horizon_datetime,  figsize_global, title_, text_size= 20, colour = True, colour_map = spec_colour_dict['spectrum']['window'], preds_col = 'prob_adm_in_window')"
   ]
  },
  {
   "cell_type": "markdown",
   "id": "7ce66839-1775-4427-8bda-55a13dac2b64",
   "metadata": {},
   "source": [
    "## Figure i\n"
   ]
  },
  {
   "cell_type": "code",
   "execution_count": null,
   "id": "d596135d-aecb-45bf-b406-aab508109bc9",
   "metadata": {
    "execution": {
     "iopub.execute_input": "2024-05-16T17:44:07.081405Z",
     "iopub.status.busy": "2024-05-16T17:44:07.080296Z",
     "iopub.status.idle": "2024-05-16T17:44:15.519801Z",
     "shell.execute_reply": "2024-05-16T17:44:15.518651Z",
     "shell.execute_reply.started": "2024-05-16T17:44:07.081367Z"
    },
    "tags": []
   },
   "outputs": [],
   "source": [
    "prob_dist_spec_in_window = {}\n",
    "\n",
    "for spec_ in ['medical', 'surgical', 'haem_onc', 'paediatric']:\n",
    "    print(\"\\nProcessing probability of admission to:\" + spec_ )\n",
    "\n",
    "    # get the probability of admission to this specialty for all patients\n",
    "    weights = ex_spec['specialty_prob'].apply(lambda x: x.get(spec_))\n",
    "    \n",
    "    # multiply by probability of admission in window\n",
    "    weights_in_window = weights * ex_spec['prob_adm_in_window']\n",
    "\n",
    "    # select only the episode slices that pertain to children or adults, as appropriate\n",
    "    if spec_ == 'paediatric':\n",
    "        episode_slices_dict = prepare_episode_slices_dict(ex_spec[ex_spec.age_group_x == '0-17'])\n",
    "    else:\n",
    "        episode_slices_dict = prepare_episode_slices_dict(ex_spec[ex_spec.age_group_x != '0-17'])\n",
    "        \n",
    "    # get probability distribution for this time of day\n",
    "    prob_dist_spec_in_window[spec_] = get_prob_dist(\n",
    "        episode_slices_dict, X_test, y_test, model, weights_in_window\n",
    "    )\n",
    "\n",
    "\n",
    "for spec_ in ['medical', 'surgical', 'haem_onc', 'paediatric']:\n",
    "\n",
    "    if full_output:\n",
    "        title_ = f'Probability distribution for beds needed for patients in ED at {random_horizon_dt} {hour_}-{min_} in {spec_} specialties within {str(int(time_window_hrs))} hours'\n",
    "        prob_dist_plot(prob_dist_data=prob_dist_spec_in_window[spec_][random_horizon_dt]['pred_demand'], title_=title_, directory_path=full_file_path, figsize=figsize_global, include_titles=True, \n",
    "                       bar_colour=spec_colour_dict['single'][spec_], file_name = f'Full Figure i {spec_}')\n",
    "\n",
    "    else: \n",
    "        title_ = f'Figure i {spec_}'\n",
    "        prob_dist_plot(prob_dist_data=prob_dist_spec_in_window[spec_][random_horizon_dt]['pred_demand'], title_=title_, directory_path=pipeline_file_path, figsize=figsize_global, text_size=20,\n",
    "                           bar_colour=spec_colour_dict['single'][spec_], file_name = f'Figure i {spec_}')"
   ]
  },
  {
   "cell_type": "markdown",
   "id": "26ce9d21-0e6c-403b-8513-349b1fd2f1e3",
   "metadata": {},
   "source": [
    "## Figure j"
   ]
  },
  {
   "cell_type": "code",
   "execution_count": null,
   "id": "a0510448-425a-4675-9ce7-3b27d102426d",
   "metadata": {
    "execution": {
     "iopub.execute_input": "2024-05-16T17:44:15.522038Z",
     "iopub.status.busy": "2024-05-16T17:44:15.521524Z",
     "iopub.status.idle": "2024-05-16T17:44:16.370451Z",
     "shell.execute_reply": "2024-05-16T17:44:16.369423Z",
     "shell.execute_reply.started": "2024-05-16T17:44:15.521991Z"
    },
    "tags": []
   },
   "outputs": [],
   "source": [
    "from joblib import load\n",
    "time_window = 480\n",
    "MODEL__ED_YETTOARRIVE__NAME = 'ed_yet_to_arrive_all_' + str(int(time_window/60)) + '_hours'\n",
    "full_path = model_file_path / MODEL__ED_YETTOARRIVE__NAME \n",
    "full_path = full_path.with_suffix('.joblib')\n",
    "\n",
    "# only medical patients\n",
    "prediction_context = {\n",
    "    'default': {\n",
    "        'time_of_day': tod_ \n",
    "    }\n",
    "}\n",
    "\n",
    "model = load(full_path)\n",
    "prob_dist_yta = model.predict(prediction_context, x1, y1, x2, y2)\n",
    "\n",
    "if full_output:\n",
    "\n",
    "    title_ = f'Probability distribution for beds needed in next {int(time_window/60)} hours\\nfor arrivals after {horizon_datetime}'\n",
    "    prob_dist_plot(prob_dist_yta['default'],figsize=figsize_global, title_=title_, directory_path=full_file_path, include_titles = True, truncate_at_beds=30, \n",
    "                   bar_colour = spec_colour_dict['single']['all'], file_name = f'Full Figure j')\n",
    "    \n",
    "else: \n",
    "\n",
    "    title_ = 'Figure j all' \n",
    "    prob_dist_plot(prob_dist_yta['default'],figsize=figsize_global, title_=title_, directory_path=pipeline_file_path, text_size = 20,  truncate_at_beds=30, \n",
    "                   bar_colour = spec_colour_dict['single']['all'], file_name = f'Figure j')\n",
    "\n",
    "    \n"
   ]
  },
  {
   "cell_type": "code",
   "execution_count": null,
   "id": "40a30fb6-2672-4bf2-a31a-2531387a5ebe",
   "metadata": {
    "execution": {
     "iopub.execute_input": "2024-05-16T17:52:21.275238Z",
     "iopub.status.busy": "2024-05-16T17:52:21.274634Z",
     "iopub.status.idle": "2024-05-16T17:52:23.545012Z",
     "shell.execute_reply": "2024-05-16T17:52:23.543435Z",
     "shell.execute_reply.started": "2024-05-16T17:52:21.275199Z"
    },
    "tags": []
   },
   "outputs": [],
   "source": [
    "\n",
    "MODEL__ED_YETTOARRIVE__NAME = 'ed_yet_to_arrive_by_spec_' + str(int(time_window/60)) + '_hours'\n",
    "full_path = model_file_path / MODEL__ED_YETTOARRIVE__NAME \n",
    "full_path = full_path.with_suffix('.joblib')\n",
    "\n",
    "model_by_spec = load(full_path)\n",
    "\n",
    "for spec_ in ['medical', 'surgical', 'haem_onc', 'paediatric']:\n",
    "\n",
    "    prediction_context = {\n",
    "        spec_: {\n",
    "            'time_of_day': tod_ \n",
    "        }\n",
    "    }\n",
    "\n",
    "    model = load(full_path)\n",
    "    prob_dist_yta_spec = model.predict(prediction_context, x1, y1, x2, y2)\n",
    "    \n",
    "    if full_output:\n",
    "\n",
    "        title_ = f'Probability distribution for beds needed in {spec_} specialties\\nin next {int(time_window/60)} hours for arrivals after {horizon_datetime}'\n",
    "        prob_dist_plot(prob_dist_yta_spec[spec_],figsize=figsize_global, title_=title_, directory_path=full_file_path, include_titles = True, truncate_at_beds=20, \n",
    "                    bar_colour = spec_colour_dict['single'][spec_], file_name = f'Full Figure j {spec_}')\n",
    "        \n",
    "    else:\n",
    "\n",
    "        title_ = 'Figure g' \n",
    "        prob_dist_plot(prob_dist_yta_spec[spec_],figsize=figsize_global, title_=title_, directory_path=pipeline_file_path, text_size = 20,  truncate_at_beds=20, \n",
    "                       bar_colour = spec_colour_dict['single'][spec_], file_name = f'Figure j {spec_}')\n"
   ]
  },
  {
   "cell_type": "code",
   "execution_count": null,
   "id": "72faa0d5-6b73-45e9-9a75-32eb30f1b603",
   "metadata": {},
   "outputs": [],
   "source": []
  },
  {
   "cell_type": "code",
   "execution_count": null,
   "id": "c84fc927-65c8-4013-be31-bdc7d6451134",
   "metadata": {},
   "outputs": [],
   "source": []
  }
 ],
 "metadata": {
  "kernelspec": {
   "display_name": "Python 3",
   "language": "python",
   "name": "python3"
  },
  "language_info": {
   "codemirror_mode": {
    "name": "ipython",
    "version": 3
   },
   "file_extension": ".py",
   "mimetype": "text/x-python",
   "name": "python",
   "nbconvert_exporter": "python",
   "pygments_lexer": "ipython3",
   "version": "3.9.5"
  }
 },
 "nbformat": 4,
 "nbformat_minor": 5
}
