{
    "cells": [
        {
            "cell_type": "markdown",
            "id": "b25b74cf-7d86-4196-90be-8362038cff69",
            "metadata": {},
            "source": [
                "# Modelling probability of admission to specialty, if admitted\n",
                "\n",
                "This notebook demonstrates the second stage of prediction, to generate a probability of admission to a specialty for each patient in the ED if they are admitted. \n",
                "\n",
                "Here we are using consult sequences as input, from a dataset that contains only patients who were later admitted. \n"
            ]
        },
        {
            "cell_type": "markdown",
            "id": "d49f32df-9f33-45c4-89ab-8663d7c32301",
            "metadata": {},
            "source": [
                "## Set up the notebook environment"
            ]
        },
        {
            "cell_type": "code",
            "execution_count": null,
            "id": "1dddd7fe-729f-4b6b-a05d-ab2547b1f180",
            "metadata": {
                "execution": {
                    "iopub.execute_input": "2024-04-22T16:24:33.699986Z",
                    "iopub.status.busy": "2024-04-22T16:24:33.699074Z",
                    "iopub.status.idle": "2024-04-22T16:24:33.814106Z",
                    "shell.execute_reply": "2024-04-22T16:24:33.812688Z",
                    "shell.execute_reply.started": "2024-04-22T16:24:33.699893Z"
                },
                "tags": []
            },
            "outputs": [],
            "source": [
                "# Reload functions every time\n",
                "%load_ext autoreload \n",
                "%autoreload 2"
            ]
        },
        {
            "cell_type": "code",
            "execution_count": null,
            "id": "56ed8f2f-4f5d-47b5-bfab-71235e27b45b",
            "metadata": {
                "execution": {
                    "iopub.execute_input": "2024-05-03T15:17:39.832975Z",
                    "iopub.status.busy": "2024-05-03T15:17:39.832414Z",
                    "iopub.status.idle": "2024-05-03T15:17:39.896707Z",
                    "shell.execute_reply": "2024-05-03T15:17:39.895639Z",
                    "shell.execute_reply.started": "2024-05-03T15:17:39.832938Z"
                },
                "tags": []
            },
            "outputs": [],
            "source": [
                "from pathlib import Path\n",
                "import sys\n",
                "import json\n",
                "import pickle\n",
                "\n",
                "\n",
                "PROJECT_ROOT = Path().home() / 'HyMind'\n",
                "\n",
                "# Patient flow package\n",
                "USER_ROOT = Path().home()\n",
                "sys.path.append(str(USER_ROOT / 'patientflow' / 'patientflow' ))\n",
                "\n",
                "# Functions that sit outside the package\n",
                "sys.path.append(str(USER_ROOT / 'patientflow' / 'functions' ))\n",
                "\n",
                "\n"
            ]
        },
        {
            "cell_type": "code",
            "execution_count": null,
            "id": "0e5e829d-18df-4701-9b88-ff3c4e2facda",
            "metadata": {
                "execution": {
                    "iopub.execute_input": "2024-05-03T14:44:26.315109Z",
                    "iopub.status.busy": "2024-05-03T14:44:26.314553Z",
                    "iopub.status.idle": "2024-05-03T14:44:26.375418Z",
                    "shell.execute_reply": "2024-05-03T14:44:26.374473Z",
                    "shell.execute_reply.started": "2024-05-03T14:44:26.315073Z"
                },
                "tags": []
            },
            "outputs": [],
            "source": [
                "model_file_path = PROJECT_ROOT / 'dissemination' / 'model-output' / 'trained-models'\n",
                "model_file_path\n",
                "\n",
                "prob_dist_file_path = PROJECT_ROOT / 'dissemination' / 'model-output' / 'probability-distributions'\n",
                "prob_dist_file_path.mkdir(parents=True, exist_ok=True)\n",
                "\n",
                "data_file_path = PROJECT_ROOT / 'dissemination' / 'data-raw'\n",
                "data_file_path"
            ]
        },
        {
            "cell_type": "markdown",
            "id": "d9d66370-bcbe-4b95-bd03-ce8e32fb6ff9",
            "metadata": {},
            "source": [
                "## Load parameters\n",
                "\n",
                "These are set in config.json. You can change these for your own purposes. But the times of day will need to match those in the provided dataset if you want to run this notebook successfully."
            ]
        },
        {
            "cell_type": "code",
            "execution_count": null,
            "id": "d2bcac22-aeab-4e44-a886-ba5c13255f6e",
            "metadata": {
                "execution": {
                    "iopub.execute_input": "2024-05-02T10:35:10.955572Z",
                    "iopub.status.busy": "2024-05-02T10:35:10.955109Z",
                    "iopub.status.idle": "2024-05-02T10:35:11.073406Z",
                    "shell.execute_reply": "2024-05-02T10:35:11.072476Z",
                    "shell.execute_reply.started": "2024-05-02T10:35:10.955536Z"
                },
                "tags": []
            },
            "outputs": [],
            "source": [
                "# Load the times of day\n",
                "import yaml\n",
                "\n",
                "config_path = Path(PROJECT_ROOT / 'dissemination')\n",
                "\n",
                "with open(config_path / 'config.yaml', 'r') as file:\n",
                "    config = yaml.safe_load(file)\n",
                "    \n",
                "# Convert list of times of day at which predictions will be made (currently stored as lists) to list of tuples\n",
                "prediction_times = [tuple(item) for item in config['prediction_times']]\n",
                "\n",
                "# See the times of day at which predictions will be made\n",
                "prediction_times"
            ]
        },
        {
            "cell_type": "markdown",
            "id": "3458fc58-9456-4873-918d-efe92cf60e7f",
            "metadata": {
                "execution": {
                    "iopub.execute_input": "2024-03-12T15:15:27.833741Z",
                    "iopub.status.busy": "2024-03-12T15:15:27.833169Z",
                    "iopub.status.idle": "2024-03-12T15:15:27.839751Z",
                    "shell.execute_reply": "2024-03-12T15:15:27.838492Z",
                    "shell.execute_reply.started": "2024-03-12T15:15:27.833704Z"
                },
                "tags": []
            },
            "source": [
                "## Load data"
            ]
        },
        {
            "cell_type": "code",
            "execution_count": null,
            "id": "6facb49b-8906-4feb-9acf-2b43c945ecfe",
            "metadata": {
                "execution": {
                    "iopub.execute_input": "2024-05-02T11:21:39.635514Z",
                    "iopub.status.busy": "2024-05-02T11:21:39.635052Z",
                    "iopub.status.idle": "2024-05-02T11:21:43.137163Z",
                    "shell.execute_reply": "2024-05-02T11:21:43.135511Z",
                    "shell.execute_reply.started": "2024-05-02T11:21:39.635471Z"
                },
                "tags": []
            },
            "outputs": [],
            "source": [
                "from ed_admissions_data_retrieval import ed_admissions_get_data\n",
                "path_admission_data = 'HyMind/dissemination/data-raw/ED_visits.csv'\n",
                "path_spec_data = 'HyMind/dissemination/data-raw/specialty.csv'\n",
                "\n",
                "df = ed_admissions_get_data(path_admission_data)\n",
                "df_spec = ed_admissions_get_data(path_spec_data)"
            ]
        },
        {
            "cell_type": "markdown",
            "id": "ce8e79c3-d84d-4ba5-af51-59ee24383a2b",
            "metadata": {},
            "source": [
                "Note that many visits had no consult request at the time they were sampled, as we can see just from the first 10 rows."
            ]
        },
        {
            "cell_type": "code",
            "execution_count": null,
            "id": "d7a11e2a-075a-4b8d-a743-d7261381fcd7",
            "metadata": {
                "execution": {
                    "iopub.execute_input": "2024-05-02T11:20:57.749245Z",
                    "iopub.status.busy": "2024-05-02T11:20:57.748821Z",
                    "iopub.status.idle": "2024-05-02T11:20:57.819829Z",
                    "shell.execute_reply": "2024-05-02T11:20:57.818792Z",
                    "shell.execute_reply.started": "2024-05-02T11:20:57.749211Z"
                },
                "tags": []
            },
            "outputs": [],
            "source": [
                "df_spec.head(10)\n"
            ]
        },
        {
            "cell_type": "markdown",
            "id": "625f09db-96d7-4382-8951-4804b70e6748",
            "metadata": {},
            "source": [
                "Also, there are more admitted patient records in the main dataset than in the specialty dataset. "
            ]
        },
        {
            "cell_type": "code",
            "execution_count": null,
            "id": "2bae9d31-0894-493d-b117-b35ecd7c57d9",
            "metadata": {
                "execution": {
                    "iopub.execute_input": "2024-04-22T17:24:31.289207Z",
                    "iopub.status.busy": "2024-04-22T17:24:31.288627Z",
                    "iopub.status.idle": "2024-04-22T17:24:31.365937Z",
                    "shell.execute_reply": "2024-04-22T17:24:31.365047Z",
                    "shell.execute_reply.started": "2024-04-22T17:24:31.289172Z"
                },
                "tags": []
            },
            "outputs": [],
            "source": [
                "print(\"Number of episode slices in main dataset involving visits by patients that were later admitted\")\n",
                "print(len(df[(df.is_admitted) & (df.age_group != '0-17')]))\n",
                "\n",
                "print(\"\\nNumber of unique visits in main dataset involving patients that were later admitted\")\n",
                "print(len(df.loc[(df.is_admitted) & (df.age_group != '0-17'), 'visit_number'].unique()))\n",
                "\n",
                "print(\"\\nNumber of records in specialty dataset\")\n",
                "print(len(df_spec))\n",
                "\n",
                "print(\"\\nNumber of unique visits in specialty dataset\")\n",
                "print(len(df_spec['visit_number'].unique()))"
            ]
        },
        {
            "cell_type": "markdown",
            "id": "6d88ee8f-c381-4988-b0ec-44ba87121cb0",
            "metadata": {},
            "source": [
                "From the summary below, there are some patients with many records in the specialty dataset."
            ]
        },
        {
            "cell_type": "code",
            "execution_count": null,
            "id": "e163d667-1bc3-4b6b-bcab-2c8e0dff83d8",
            "metadata": {
                "execution": {
                    "iopub.execute_input": "2024-04-22T16:39:01.789910Z",
                    "iopub.status.busy": "2024-04-22T16:39:01.788540Z",
                    "iopub.status.idle": "2024-04-22T16:39:01.831436Z",
                    "shell.execute_reply": "2024-04-22T16:39:01.829871Z",
                    "shell.execute_reply.started": "2024-04-22T16:39:01.789872Z"
                },
                "tags": []
            },
            "outputs": [],
            "source": [
                "df_spec['visit_number'].value_counts().to_frame()"
            ]
        },
        {
            "cell_type": "markdown",
            "id": "72509763-7211-4190-b348-278f735b499e",
            "metadata": {},
            "source": [
                "To handle this, we'll load the training set from the admission models, which used only one episode slice per visit, and only training using the same episode slices"
            ]
        },
        {
            "cell_type": "code",
            "execution_count": null,
            "id": "bb3e1828-e2d5-42a8-bd1f-1077a84a14b0",
            "metadata": {
                "execution": {
                    "iopub.execute_input": "2024-04-30T10:43:57.215612Z",
                    "iopub.status.busy": "2024-04-30T10:43:57.215067Z",
                    "iopub.status.idle": "2024-04-30T10:44:08.453808Z",
                    "shell.execute_reply": "2024-04-30T10:44:08.452682Z",
                    "shell.execute_reply.started": "2024-04-30T10:43:57.215576Z"
                }
            },
            "outputs": [],
            "source": [
                "from ed_admissions_utils import select_one_episode_slice_per_visit\n",
                "\n",
                "df = ed_admissions_get_data(path_admission_data)\n",
                "df_spec = ed_admissions_get_data(path_spec_data)\n",
                "\n",
                "df_single = select_one_episode_slice_per_visit(df)\n",
                "\n",
                "print(df.shape)\n",
                "print(df_single.shape)"
            ]
        },
        {
            "cell_type": "markdown",
            "id": "7eae6f30-e798-471b-998c-a91c6d82a98b",
            "metadata": {
                "execution": {
                    "iopub.execute_input": "2024-04-30T10:43:44.485080Z",
                    "iopub.status.busy": "2024-04-30T10:43:44.484529Z",
                    "iopub.status.idle": "2024-04-30T10:43:44.534813Z",
                    "shell.execute_reply": "2024-04-30T10:43:44.533440Z",
                    "shell.execute_reply.started": "2024-04-30T10:43:44.485044Z"
                }
            },
            "source": [
                "Now select only those df_spec rows which are in df_single"
            ]
        },
        {
            "cell_type": "code",
            "execution_count": null,
            "id": "c0c80b03-1371-4163-baf3-b3725bf835ce",
            "metadata": {
                "execution": {
                    "iopub.execute_input": "2024-04-30T10:44:17.996161Z",
                    "iopub.status.busy": "2024-04-30T10:44:17.995577Z",
                    "iopub.status.idle": "2024-04-30T10:44:18.058073Z",
                    "shell.execute_reply": "2024-04-30T10:44:18.056925Z",
                    "shell.execute_reply.started": "2024-04-30T10:44:17.996125Z"
                }
            },
            "outputs": [],
            "source": [
                "print(df_spec.shape)\n",
                "df_spec_single = df_spec[df_spec.episode_slice_id.isin(df_single.episode_slice_id)].copy()\n",
                "print(df_spec_single.shape)"
            ]
        },
        {
            "cell_type": "markdown",
            "id": "78a65f48-b128-4f83-a2f4-38a6f8592472",
            "metadata": {},
            "source": [
                "## Set an index column in df\n",
                "\n",
                "Setting the index as the episode_slice_id before subsetting means that we retain the same values of episode_slice_id throughout the entire process, ensuring that they are consistent across the original dataset df and the training, validation and test subsets of df"
            ]
        },
        {
            "cell_type": "code",
            "execution_count": null,
            "id": "0beeb93a-b535-4f32-b539-55ac857cdbcb",
            "metadata": {
                "execution": {
                    "iopub.execute_input": "2024-05-02T11:21:54.195806Z",
                    "iopub.status.busy": "2024-05-02T11:21:54.195408Z",
                    "iopub.status.idle": "2024-05-02T11:21:54.358612Z",
                    "shell.execute_reply": "2024-05-02T11:21:54.357310Z",
                    "shell.execute_reply.started": "2024-05-02T11:21:54.195772Z"
                },
                "tags": []
            },
            "outputs": [],
            "source": [
                "if df.index.name != 'episode_slice_id':\n",
                "    df = df.set_index('episode_slice_id')\n"
            ]
        },
        {
            "cell_type": "markdown",
            "id": "fb4dcb2b-2ee0-495a-ad4b-37c41cdeb316",
            "metadata": {},
            "source": [
                "After executing the code below, the episode_slice_id has been set as the index column."
            ]
        },
        {
            "cell_type": "code",
            "execution_count": null,
            "id": "8d945bf4-251c-4ec3-b243-468710b09b96",
            "metadata": {
                "execution": {
                    "iopub.execute_input": "2024-05-02T11:21:57.232729Z",
                    "iopub.status.busy": "2024-05-02T11:21:57.231659Z",
                    "iopub.status.idle": "2024-05-02T11:21:57.355138Z",
                    "shell.execute_reply": "2024-05-02T11:21:57.353907Z",
                    "shell.execute_reply.started": "2024-05-02T11:21:57.232689Z"
                },
                "tags": []
            },
            "outputs": [],
            "source": [
                "if df_spec.index.name != 'episode_slice_id':\n",
                "    df_spec = df_spec.set_index('episode_slice_id')\n",
                "df_spec.head()"
            ]
        },
        {
            "cell_type": "markdown",
            "id": "ca60fc67-0b4b-4f2c-b7d0-ba8f98a79064",
            "metadata": {
                "tags": []
            },
            "source": [
                "## Separate into training, validation and test sets\n",
                "\n",
                "As part of preparing the data, each visit has already been allocated into one of three sets - training, vaidation and test sets. This has been done chronologically, as shown by the output below. Using a chronological approach is appropriate for tasks where the model needs to be validated on unseen, future data.\n"
            ]
        },
        {
            "cell_type": "code",
            "execution_count": null,
            "id": "a32f196c-f2a5-4411-af53-361251a86675",
            "metadata": {
                "execution": {
                    "iopub.execute_input": "2024-04-30T10:44:37.244557Z",
                    "iopub.status.busy": "2024-04-30T10:44:37.244001Z",
                    "iopub.status.idle": "2024-04-30T10:44:37.308212Z",
                    "shell.execute_reply": "2024-04-30T10:44:37.306795Z",
                    "shell.execute_reply.started": "2024-04-30T10:44:37.244522Z"
                },
                "tags": []
            },
            "outputs": [],
            "source": [
                "train_df_spec = df_spec[df_spec.training_validation_test == 'train'].drop(columns='training_validation_test')\n",
                "valid_df_spec = df_spec[df_spec.training_validation_test == 'valid'].drop(columns='training_validation_test')\n",
                "test_df_spec = df_spec[df_spec.training_validation_test == 'test'].drop(columns='training_validation_test')\n"
            ]
        },
        {
            "cell_type": "markdown",
            "id": "2db1f21d-d23e-4245-a511-8cd128d895b9",
            "metadata": {},
            "source": [
                "## Train a rooted directed tree"
            ]
        },
        {
            "cell_type": "code",
            "execution_count": null,
            "id": "385a4de3-cbf7-40ea-bfdd-d9612f912760",
            "metadata": {
                "execution": {
                    "iopub.execute_input": "2024-05-07T16:02:38.874730Z",
                    "iopub.status.busy": "2024-05-07T16:02:38.874239Z",
                    "iopub.status.idle": "2024-05-07T16:02:39.464079Z",
                    "shell.execute_reply": "2024-05-07T16:02:39.459137Z",
                    "shell.execute_reply.started": "2024-05-07T16:02:38.874693Z"
                },
                "tags": []
            },
            "outputs": [],
            "source": [
                "from predict.emergency_demand.specialty_of_admission import SequencePredictor"
            ]
        },
        {
            "cell_type": "code",
            "execution_count": null,
            "id": "a7029a4b-c68a-4e5f-8244-4a916acc4d7d",
            "metadata": {
                "execution": {
                    "iopub.execute_input": "2024-05-13T16:09:58.557913Z",
                    "iopub.status.busy": "2024-05-13T16:09:58.555598Z",
                    "iopub.status.idle": "2024-05-13T16:09:59.150176Z",
                    "shell.execute_reply": "2024-05-13T16:09:59.148699Z",
                    "shell.execute_reply.started": "2024-05-13T16:09:58.557871Z"
                },
                "tags": []
            },
            "outputs": [],
            "source": [
                "model = SequencePredictor(input_var = 'consultation_sequence',\n",
                "                       grouping_var = 'final_sequence',\n",
                "                       outcome_var = 'observed_specialty')\n",
                "model.fit(train_df_spec)\n",
                "model.predict(tuple(['surgical'])) \n"
            ]
        },
        {
            "cell_type": "markdown",
            "id": "db666452-de5d-46c0-8ad0-9f6c74bfc317",
            "metadata": {},
            "source": [
                "The probabilities for each consult sequence ending in a given observed specialty have been saved in the model. These can be accessed as follows: "
            ]
        },
        {
            "cell_type": "code",
            "execution_count": null,
            "id": "1ce17e1d-0b50-42e7-b60c-dcc9466257a9",
            "metadata": {
                "execution": {
                    "iopub.execute_input": "2024-04-30T10:44:53.983757Z",
                    "iopub.status.busy": "2024-04-30T10:44:53.983101Z",
                    "iopub.status.idle": "2024-04-30T10:44:54.037240Z",
                    "shell.execute_reply": "2024-04-30T10:44:54.035628Z",
                    "shell.execute_reply.started": "2024-04-30T10:44:53.983721Z"
                },
                "tags": []
            },
            "outputs": [],
            "source": [
                "weights = model.weights\n",
                "weights[tuple(['surgical'])]"
            ]
        },
        {
            "cell_type": "code",
            "execution_count": null,
            "id": "ba0f021e-8bb5-4789-b0f7-19cbfb9292c0",
            "metadata": {
                "execution": {
                    "iopub.execute_input": "2024-05-13T16:10:40.639559Z",
                    "iopub.status.busy": "2024-05-13T16:10:40.638811Z",
                    "iopub.status.idle": "2024-05-13T16:10:40.760272Z",
                    "shell.execute_reply": "2024-05-13T16:10:40.759171Z",
                    "shell.execute_reply.started": "2024-05-13T16:10:40.639500Z"
                }
            },
            "outputs": [],
            "source": [
                "model.input_to_grouping_probs"
            ]
        },
        {
            "cell_type": "code",
            "execution_count": null,
            "id": "d7bb7517-f4c7-4243-a45f-6b1f5ac59a9d",
            "metadata": {
                "execution": {
                    "iopub.execute_input": "2024-05-13T16:10:22.235426Z",
                    "iopub.status.busy": "2024-05-13T16:10:22.234835Z",
                    "iopub.status.idle": "2024-05-13T16:10:22.311922Z",
                    "shell.execute_reply": "2024-05-13T16:10:22.311008Z",
                    "shell.execute_reply.started": "2024-05-13T16:10:22.235379Z"
                },
                "tags": []
            },
            "outputs": [],
            "source": [
                "from joblib import dump, load\n",
                "\n",
                "MODEL__ED_SPECIALTY__NAME = 'ed_specialty'\n",
                "\n",
                "# use this name in the path for saving the model\n",
                "full_path = model_file_path / MODEL__ED_SPECIALTY__NAME \n",
                "full_path = full_path.with_suffix('.joblib')\n",
                "\n",
                "# save the model\n",
                "dump(model, full_path)"
            ]
        },
        {
            "cell_type": "markdown",
            "id": "a4dcdfc0-c3f2-4f1a-9148-1c87c8ba97cd",
            "metadata": {},
            "source": [
                "## Do inference on the test set"
            ]
        },
        {
            "cell_type": "code",
            "execution_count": null,
            "id": "a4800368-3e3f-430c-8a12-0ecdd2cfdc6f",
            "metadata": {
                "execution": {
                    "iopub.execute_input": "2024-04-29T20:13:35.929502Z",
                    "iopub.status.busy": "2024-04-29T20:13:35.928815Z",
                    "iopub.status.idle": "2024-04-29T20:13:35.982533Z",
                    "shell.execute_reply": "2024-04-29T20:13:35.981430Z",
                    "shell.execute_reply.started": "2024-04-29T20:13:35.929465Z"
                },
                "tags": []
            },
            "outputs": [],
            "source": [
                "from ed_admissions_helper_functions import prepare_for_inference\n",
                "model = prepare_for_inference(model_file_path, 'ed_specialty', model_only = True)"
            ]
        },
        {
            "cell_type": "code",
            "execution_count": null,
            "id": "4e8a93cb-3e62-4ee2-9016-53ecd9d7a7a8",
            "metadata": {
                "execution": {
                    "iopub.execute_input": "2024-04-29T20:13:38.243184Z",
                    "iopub.status.busy": "2024-04-29T20:13:38.242732Z",
                    "iopub.status.idle": "2024-04-29T20:13:38.293660Z",
                    "shell.execute_reply": "2024-04-29T20:13:38.291878Z",
                    "shell.execute_reply.started": "2024-04-29T20:13:38.243148Z"
                },
                "tags": []
            },
            "outputs": [],
            "source": [
                "model.predict(None)"
            ]
        },
        {
            "cell_type": "code",
            "execution_count": null,
            "id": "5abd71f3-54a5-4bd8-9a97-0716a7f716cf",
            "metadata": {
                "execution": {
                    "iopub.execute_input": "2024-04-22T17:41:09.870977Z",
                    "iopub.status.busy": "2024-04-22T17:41:09.870330Z",
                    "iopub.status.idle": "2024-04-22T17:41:09.926824Z",
                    "shell.execute_reply": "2024-04-22T17:41:09.925702Z",
                    "shell.execute_reply.started": "2024-04-22T17:41:09.870940Z"
                },
                "tags": []
            },
            "outputs": [],
            "source": [
                "test_df_spec['predicted_specialty'] = test_df_spec['consultation_sequence'].apply(lambda x: model.predict(x)).apply(lambda x: max(x, key=x.get))"
            ]
        },
        {
            "cell_type": "markdown",
            "id": "8a7033b7-e5f8-494b-9737-0b97bf4f7b93",
            "metadata": {},
            "source": [
                "The plot below shows that this approach commonly predicts medical admissions for patients who end up as haem_onc or surgical. This is not surprising, as there are so many visits which are sampled before any consults are requested, and these are all assumed to be medical admissions because this is the dominant class. "
            ]
        },
        {
            "cell_type": "code",
            "execution_count": null,
            "id": "df3fb91e-4761-48b4-b10a-c66fc138ab73",
            "metadata": {
                "execution": {
                    "iopub.execute_input": "2024-04-22T17:44:31.482731Z",
                    "iopub.status.busy": "2024-04-22T17:44:31.482187Z",
                    "iopub.status.idle": "2024-04-22T17:44:31.835452Z",
                    "shell.execute_reply": "2024-04-22T17:44:31.834556Z",
                    "shell.execute_reply.started": "2024-04-22T17:44:31.482696Z"
                },
                "tags": []
            },
            "outputs": [],
            "source": [
                "from matplotlib import pyplot as plt\n",
                "def plot_confusion_matrix(df):\n",
                "    \n",
                "    fig, ax = plt.subplots()\n",
                "    # Confusion Matrix\n",
                "    y_pred = df['predicted_specialty']\n",
                "    y_test = df['observed_specialty']\n",
                "    cm = confusion_matrix(y_test, y_pred)\n",
                "    classes = sorted(df['observed_specialty'].unique())\n",
                "    # Display the confusion matrix\n",
                "    disp = ConfusionMatrixDisplay(confusion_matrix=cm, display_labels=classes)\n",
                "    disp.plot(cmap='Blues', ax=ax)\n",
                "    ax.set_title(f'Confusion Matrix for Specialty Prediction')\n",
                "\n",
                "    plt.tight_layout()\n",
                "    plt.show()\n",
                "    \n",
                "plot_confusion_matrix(test_df_spec)"
            ]
        },
        {
            "cell_type": "markdown",
            "id": "1952a264-44d1-4e12-8147-c5f5a0d82dc3",
            "metadata": {},
            "source": [
                "## Generate a probability distribution for the number of admissions to each specialty\n",
                "\n",
                "Here we follow the same approach as for prediction overall admission numbers by time of day (see notebook). However, now we want to make different predictions for each specialty. To do this will iterate through each speciality, retrieving each patient's probability of being admitted to that specialty, if admitted.  \n"
            ]
        },
        {
            "cell_type": "code",
            "execution_count": null,
            "id": "bd66096d-bbc3-4eb5-91c3-b1c18e7969cd",
            "metadata": {
                "execution": {
                    "iopub.execute_input": "2024-05-03T15:17:55.618805Z",
                    "iopub.status.busy": "2024-05-03T15:17:55.618250Z",
                    "iopub.status.idle": "2024-05-03T16:03:31.292994Z",
                    "shell.execute_reply": "2024-05-03T16:03:31.289943Z",
                    "shell.execute_reply.started": "2024-05-03T15:17:55.618767Z"
                },
                "tags": []
            },
            "outputs": [],
            "source": [
                "\n",
                "## New function - not yet run\n",
                "## STILL TO DO - test this against all other notebooks that use this approach\n",
                "## STILL TO DO - need to include dates and prediction_times without patients in ED at that time\n",
                "\n",
                "from ed_admissions_helper_functions import prepare_for_inference, get_model_name\n",
                "from ed_admissions_helper_functions import get_specialty_probs, prepare_episode_slices_dict\n",
                "from predict.emergency_demand.from_individual_probs import get_prob_dist\n",
                "\n",
                "\n",
                "\n",
                "child_age_group = '0-17'\n",
                "child_dict = {\n",
                "    'medical': 0.0,\n",
                "    'surgical': 0.0,\n",
                "    'haem_onc': 0.0,\n",
                "    'paediatric': 1.0\n",
                "}\n",
                "\n",
                "# Function to determine if the patient is a child\n",
                "# This can be customized to any complex logic necessary\n",
                "is_child_func = lambda row: row['age_group'] == '0-17' # or row['age'] <= 17\n",
                "\n",
                "\n",
                "\n",
                "prob_dist_dict_all = {}\n",
                "\n",
                "for prediction_time_ in prediction_times:\n",
                "\n",
                "    print(\"\\nProcessing :\" + str(prediction_time_))\n",
                "    \n",
                "    # get model name for this time of day\n",
                "    MODEL__ED_ADMISSIONS__NAME = get_model_name('ed_admission', prediction_time_)\n",
                "    \n",
                "    # initialise a dictionary to save specialty predictions\n",
                "    prob_dist_dict_all[MODEL__ED_ADMISSIONS__NAME] = {}\n",
                "\n",
                "    # prepare data \n",
                "    X_test, y_test, model = prepare_for_inference(model_file_path, 'ed_admission', prediction_time = prediction_time_, data_path = path_admission_data, single_episode_slice_per_visit = False)\n",
                "    \n",
                "    # get data on probability of admission to each specialty\n",
                "    X_test_spec = pd.merge(X_test[['age_group']], df_spec[['consultation_sequence', 'observed_specialty']], left_index=True, right_index=True, how='left')\n",
                "    \n",
                "    # this function will return a dictionary of probabilities for each \n",
                "    X_test_spec['specialty_prob'] = get_specialty_probs(model_file_path, X_test_spec, special_category_func=is_child_func, special_category_dict=child_dict)\n",
                "    \n",
                "    for spec_ in ['medical', 'surgical', 'haem_onc', 'paediatric']:\n",
                "        print(\"\\nProcessing probability of admission to:\" + spec_ )\n",
                "        \n",
                "        # get the probability of admission to this specialty for all patients\n",
                "        weights = X_test_spec['specialty_prob'].apply(lambda x: x.get(spec_))\n",
                "        \n",
                "        # select only the episode slices that pertain to children or adults, as appropriate\n",
                "        if spec_ == 'paediatric':\n",
                "            episode_slices_dict = prepare_episode_slices_dict(df[(df.training_validation_test == 'test') & (df.prediction_time == prediction_time_) & (df.age_group == '0-17')])\n",
                "        else:\n",
                "            episode_slices_dict = prepare_episode_slices_dict(df[(df.training_validation_test == 'test') & (df.prediction_time == prediction_time_) & (df.age_group != '0-17')])\n",
                "            \n",
                "        # get probability distribution for this time of day\n",
                "        prob_dist_dict_all[MODEL__ED_ADMISSIONS__NAME][spec_] = get_prob_dist(\n",
                "            episode_slices_dict, X_test, y_test, model, weights\n",
                "        )\n",
                "        \n",
                "    # use model name in the path for saving the prob dist\n",
                "    full_path = prob_dist_file_path / str(MODEL__ED_ADMISSIONS__NAME + '_with_spec') \n",
                "    full_path = full_path.with_suffix('.pickle')\n",
                "        \n",
                "    with open(full_path, 'wb') as f:  # Note the 'wb' mode for binary writing\n",
                "        pickle.dump(prob_dist_dict_all[MODEL__ED_ADMISSIONS__NAME], f)\n",
                "    \n",
                "            "
            ]
        },
        {
            "cell_type": "code",
            "execution_count": null,
            "id": "8899b659-0924-4f1b-8f04-54b5f8e99210",
            "metadata": {
                "execution": {
                    "iopub.execute_input": "2024-05-03T17:09:43.850591Z",
                    "iopub.status.busy": "2024-05-03T17:09:43.849990Z",
                    "iopub.status.idle": "2024-05-03T17:09:43.923332Z",
                    "shell.execute_reply": "2024-05-03T17:09:43.922307Z",
                    "shell.execute_reply.started": "2024-05-03T17:09:43.850550Z"
                },
                "tags": []
            },
            "outputs": [],
            "source": [
                "prob_dist_dict_all[MODEL__ED_ADMISSIONS__NAME]['medical']['2023-01-26']['pred_demand'].head(10)"
            ]
        },
        {
            "cell_type": "code",
            "execution_count": null,
            "id": "60bc5fad-32d4-4912-a136-6d8fa1eca2fa",
            "metadata": {},
            "outputs": [],
            "source": [
                "prob_dist_dict_all[MODEL__ED_ADMISSIONS__NAME]['surgical']['2023-01-26']['pred_demand'].head(10)"
            ]
        },
        {
            "cell_type": "markdown",
            "id": "886a997f-4f71-4992-a298-fe1ee2643d12",
            "metadata": {},
            "source": [
                "## Plot one horizon date as an example"
            ]
        },
        {
            "cell_type": "code",
            "execution_count": null,
            "id": "97f20eaf-f443-4605-bf36-605fc6382a92",
            "metadata": {
                "execution": {
                    "iopub.execute_input": "2024-05-03T17:42:05.190742Z",
                    "iopub.status.busy": "2024-05-03T17:42:05.190316Z",
                    "iopub.status.idle": "2024-05-03T17:42:06.479095Z",
                    "shell.execute_reply": "2024-05-03T17:42:06.477856Z",
                    "shell.execute_reply.started": "2024-05-03T17:42:05.190707Z"
                },
                "tags": []
            },
            "outputs": [],
            "source": [
                "from viz.prob_dist_plot import prob_dist_plot\n",
                "\n",
                "for spec_ in ['medical', 'surgical', 'haem_onc', 'paediatric']:\n",
                "\n",
                "    title_ = f'Probability distribution for beds needed in {spec_} specialties\\n for patients in ED at {horizon_dts[0]} {MODEL__ED_ADMISSIONS__NAME[-4:]}'\n",
                "    prob_dist_plot(prob_dist_data=prob_dist_dict_all[MODEL__ED_ADMISSIONS__NAME][spec_]['2023-01-26']['pred_demand'], title_=title_,  include_titles=True)"
            ]
        },
        {
            "cell_type": "markdown",
            "id": "066c6e56-1ab5-47d9-b5a0-fe008573fb40",
            "metadata": {},
            "source": [
                "## Adding in a time window"
            ]
        },
        {
            "cell_type": "code",
            "execution_count": null,
            "id": "902fef62-a606-4267-9154-40d8605893c9",
            "metadata": {
                "execution": {
                    "iopub.execute_input": "2024-05-04T12:29:41.109618Z",
                    "iopub.status.busy": "2024-05-04T12:29:41.109173Z",
                    "iopub.status.idle": "2024-05-04T13:18:32.890128Z",
                    "shell.execute_reply": "2024-05-04T13:18:32.889127Z",
                    "shell.execute_reply.started": "2024-05-04T12:29:41.109583Z"
                },
                "tags": []
            },
            "outputs": [],
            "source": [
                "## NOT RUN\n",
                "\n",
                "from ed_admissions_helper_functions import prepare_for_inference, get_model_name\n",
                "from ed_admissions_helper_functions import get_specialty_probs, prepare_episode_slices_dict\n",
                "from predict.emergency_demand.from_individual_probs import get_prob_dist\n",
                "from predict.emergency_demand.admission_in_time_window_using_aspirational_curve import calculate_probability\n",
                "\n",
                "\n",
                "\n",
                "child_age_group = '0-17'\n",
                "child_dict = {\n",
                "    'medical': 0.0,\n",
                "    'surgical': 0.0,\n",
                "    'haem_onc': 0.0,\n",
                "    'paediatric': 1.0\n",
                "}\n",
                "\n",
                "# Function to determine if the patient is a child\n",
                "# This can be customized to any complex logic necessary\n",
                "is_child_func = lambda row: row['age_group'] == '0-17' # or row['age'] <= 17\n",
                "\n",
                "\n",
                "\n",
                "prob_dist_dict_all = {}\n",
                "\n",
                "for prediction_time_ in prediction_times:\n",
                "\n",
                "    print(\"\\nProcessing :\" + str(prediction_time_))\n",
                "    \n",
                "    # get model name for this time of day\n",
                "    MODEL__ED_ADMISSIONS__NAME = get_model_name('ed_admission', prediction_time_)\n",
                "    \n",
                "    # initialise a dictionary to save specialty predictions\n",
                "    prob_dist_dict_all[MODEL__ED_ADMISSIONS__NAME] = {}\n",
                "\n",
                "    # prepare data \n",
                "    X_test, y_test, model = prepare_for_inference(model_file_path, 'ed_admission', prediction_time = prediction_time_, data_path = path_admission_data, single_episode_slice_per_visit = False)\n",
                "    \n",
                "    # get data on probability of admission to each specialty\n",
                "    X_test_spec = pd.merge(X_test[['age_group']], df_spec[['consultation_sequence', 'observed_specialty']], left_index=True, right_index=True, how='left')\n",
                "    \n",
                "    # this function will return a dictionary of probabilities for each \n",
                "    X_test_spec['specialty_prob'] = get_specialty_probs(model_file_path, X_test_spec, special_category_func=is_child_func, special_category_dict=child_dict)\n",
                "    \n",
                "    # get probability of admission in time window\n",
                "    X_test_admission_in_window_prob = X_test[['elapsed_los_td']].copy()\n",
                "    time_window_hrs = config['time_window']/60\n",
                "    X_test_admission_in_window_prob['elapsed_los_td_hrs'] = X_test_admission_in_window_prob['elapsed_los_td']/3600\n",
                "    time_window_weights = X_test_admission_in_window_prob.apply(lambda row: calculate_probability(row['elapsed_los_td_hrs'], time_window_hrs, x1 = 4, y1 = 0.76, x2 = 12, y2 = .99), axis=1)\n",
                "    \n",
                "    for spec_ in ['medical', 'surgical', 'haem_onc', 'paediatric']:\n",
                "        print(\"\\nProcessing probability of admission to:\" + spec_ )\n",
                "        \n",
                "        # get the probability of admission to this specialty for all patients\n",
                "        spec_weights = X_test_spec['specialty_prob'].apply(lambda x: x.get(spec_))\n",
                "        \n",
                "        # multiply the weights\n",
                "        weights = time_window_weights*spec_weights\n",
                "        \n",
                "        # select only the episode slices that pertain to children or adults, as appropriate\n",
                "        if spec_ == 'paediatric':\n",
                "            episode_slices_dict = prepare_episode_slices_dict(df[(df.training_validation_test == 'test') & (df.prediction_time == prediction_time_) & (df.age_group == '0-17')])\n",
                "        else:\n",
                "            episode_slices_dict = prepare_episode_slices_dict(df[(df.training_validation_test == 'test') & (df.prediction_time == prediction_time_) & (df.age_group != '0-17')])\n",
                "            \n",
                "        # get probability distribution for this time of day\n",
                "        prob_dist_dict_all[MODEL__ED_ADMISSIONS__NAME][spec_] = get_prob_dist(\n",
                "            episode_slices_dict, X_test, y_test, model, weights\n",
                "        )\n",
                "        \n",
                "    # use model name in the path for saving the prob dist\n",
                "    full_path = prob_dist_file_path / str(MODEL__ED_ADMISSIONS__NAME + '_in_time_window_with_spec') \n",
                "    full_path = full_path.with_suffix('.pickle')\n",
                "        \n",
                "    with open(full_path, 'wb') as f:  # Note the 'wb' mode for binary writing\n",
                "        pickle.dump(prob_dist_dict_all[MODEL__ED_ADMISSIONS__NAME], f)\n",
                "    \n",
                "            "
            ]
        },
        {
            "cell_type": "code",
            "execution_count": null,
            "id": "90f3d314-bfc7-4a28-bc55-c4a6762d1389",
            "metadata": {},
            "outputs": [],
            "source": []
        }
    ],
    "metadata": {
        "kernelspec": {
            "display_name": "Python 3",
            "language": "python",
            "name": "python3"
        },
        "language_info": {
            "codemirror_mode": {
                "name": "ipython",
                "version": 3
            },
            "file_extension": ".py",
            "mimetype": "text/x-python",
            "name": "python",
            "nbconvert_exporter": "python",
            "pygments_lexer": "ipython3",
            "version": "3.9.5"
        }
    },
    "nbformat": 4,
    "nbformat_minor": 5
}
