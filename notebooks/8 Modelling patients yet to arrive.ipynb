{
    "cells": [
        {
            "cell_type": "markdown",
            "id": "b25050b2-0977-490a-930c-a0ff13d8a2d4",
            "metadata": {},
            "source": [
                "# Predict yet to arrive \n",
                "\n",
                "prepare a model that will predict the number of patients yet to arrive.\n",
                "\n",
                "Inputs\n",
                "- A series of times in the day at which we want to make these predictions is set \n",
                "- A series of dates on which we want to make these predictions\n",
                "- A time window after the prediction time, within which we are interested in predicting a number of patients (eg 8 hours)"
            ]
        },
        {
            "cell_type": "markdown",
            "id": "4b447d6f-6ce6-47f9-bd27-3839841e7a2a",
            "metadata": {
                "tags": []
            },
            "source": [
                "## Set up the notebook environment"
            ]
        },
        {
            "cell_type": "code",
            "execution_count": null,
            "id": "ba096393-44cf-4351-a76d-dc8ab80ca720",
            "metadata": {
                "execution": {
                    "iopub.execute_input": "2024-05-11T10:30:22.926074Z",
                    "iopub.status.busy": "2024-05-11T10:30:22.925744Z",
                    "iopub.status.idle": "2024-05-11T10:30:22.962573Z",
                    "shell.execute_reply": "2024-05-11T10:30:22.961616Z",
                    "shell.execute_reply.started": "2024-05-11T10:30:22.926038Z"
                },
                "tags": []
            },
            "outputs": [],
            "source": [
                "# Reload functions every time\n",
                "%load_ext autoreload \n",
                "%autoreload 2"
            ]
        },
        {
            "cell_type": "code",
            "execution_count": null,
            "id": "c2ef0ed2-a32d-4faa-9c38-3a3b94d6bd38",
            "metadata": {
                "execution": {
                    "iopub.execute_input": "2024-05-11T10:32:25.201012Z",
                    "iopub.status.busy": "2024-05-11T10:32:25.200623Z",
                    "iopub.status.idle": "2024-05-11T10:32:25.747204Z",
                    "shell.execute_reply": "2024-05-11T10:32:25.746200Z",
                    "shell.execute_reply.started": "2024-05-11T10:32:25.200978Z"
                },
                "tags": []
            },
            "outputs": [],
            "source": [
                "from pathlib import Path\n",
                "import sys\n",
                "import json\n",
                "import pandas as pd\n",
                "import numpy as np\n",
                "# import joblib\n",
                "from joblib import load, dump\n",
                "\n",
                "PROJECT_ROOT = Path().home() / 'HyMind'\n",
                "\n",
                "# Patient flow package\n",
                "USER_ROOT = Path().home()\n",
                "sys.path.append(str(USER_ROOT / 'patientflow' / 'patientflow' ))\n",
                "\n",
                "# Functions that sit outside the package\n",
                "sys.path.append(str(USER_ROOT / 'patientflow' / 'functions' ))\n"
            ]
        },
        {
            "cell_type": "code",
            "execution_count": null,
            "id": "e6e730e7-bcd4-4a68-ada0-f91dccb66bda",
            "metadata": {
                "execution": {
                    "iopub.execute_input": "2024-05-11T10:32:26.628199Z",
                    "iopub.status.busy": "2024-05-11T10:32:26.627660Z",
                    "iopub.status.idle": "2024-05-11T10:32:26.639918Z",
                    "shell.execute_reply": "2024-05-11T10:32:26.638814Z",
                    "shell.execute_reply.started": "2024-05-11T10:32:26.628159Z"
                },
                "tags": []
            },
            "outputs": [],
            "source": [
                "model_file_path = PROJECT_ROOT / 'dissemination' / 'model-output' / 'trained-models'\n",
                "model_file_path\n",
                "\n",
                "data_file_path = PROJECT_ROOT / 'dissemination' / 'data-raw'\n",
                "data_file_path"
            ]
        },
        {
            "cell_type": "markdown",
            "id": "8364065f-b8ef-48e6-85b7-5ad58c3de274",
            "metadata": {},
            "source": [
                "## Load parameters\n",
                "\n",
                "These are set in config.json. You can change these for your own purposes. But the times of day will need to match those in the provided dataset if you want to run this notebook successfully."
            ]
        },
        {
            "cell_type": "code",
            "execution_count": null,
            "id": "9c8b5bc7-0342-4661-989f-7acb6f5bf29e",
            "metadata": {
                "execution": {
                    "iopub.execute_input": "2024-05-11T10:32:29.986048Z",
                    "iopub.status.busy": "2024-05-11T10:32:29.985491Z",
                    "iopub.status.idle": "2024-05-11T10:32:30.020749Z",
                    "shell.execute_reply": "2024-05-11T10:32:30.019657Z",
                    "shell.execute_reply.started": "2024-05-11T10:32:29.985997Z"
                },
                "tags": []
            },
            "outputs": [],
            "source": [
                "# Load the times of day\n",
                "import yaml\n",
                "\n",
                "config_path = Path(PROJECT_ROOT / 'dissemination' )\n",
                "\n",
                "with open(config_path / 'config.yaml', 'r') as file:\n",
                "    config = yaml.safe_load(file)\n",
                "    \n",
                "# Convert list of times of day at which predictions will be made (currently stored as lists) to list of tuples\n",
                "prediction_times = [tuple(item) for item in config['prediction_times']]\n",
                "epsilon = float(eval(config['epsilon']))\n",
                "prediction_window = int(config['prediction_window'])\n",
                "time_interval = int(config['yta_time_interval'])\n",
                "reference_year = config['reference_year']\n",
                "\n",
                "# json_file_path = '../patientflow/predict/emergency_demand/nhse_urls.json'\n"
            ]
        },
        {
            "cell_type": "markdown",
            "id": "643d6048-2da2-4a54-ab8e-e6ce6df2dbab",
            "metadata": {},
            "source": [
                "## Load data"
            ]
        },
        {
            "cell_type": "code",
            "execution_count": null,
            "id": "da936a9a-7061-4616-b13c-5f979dbb3816",
            "metadata": {
                "execution": {
                    "iopub.execute_input": "2024-05-11T10:33:54.963104Z",
                    "iopub.status.busy": "2024-05-11T10:33:54.962212Z",
                    "iopub.status.idle": "2024-05-11T10:33:55.054073Z",
                    "shell.execute_reply": "2024-05-11T10:33:55.053005Z",
                    "shell.execute_reply.started": "2024-05-11T10:33:54.963062Z"
                },
                "tags": []
            },
            "outputs": [],
            "source": [
                "from ed_admissions_data_retrieval import ed_admissions_get_data\n",
                "PATH_ED = 'HyMind/dissemination/data-raw/yet_to_arrive.csv'\n",
                "\n",
                "df = ed_admissions_get_data(PATH_ED)"
            ]
        },
        {
            "cell_type": "code",
            "execution_count": null,
            "id": "2c8991c9-5052-4d40-9d53-e569106df5cf",
            "metadata": {
                "execution": {
                    "iopub.execute_input": "2024-04-18T07:49:54.523432Z",
                    "iopub.status.busy": "2024-04-18T07:49:54.522859Z",
                    "iopub.status.idle": "2024-04-18T07:49:54.565057Z",
                    "shell.execute_reply": "2024-04-18T07:49:54.564199Z",
                    "shell.execute_reply.started": "2024-04-18T07:49:54.523395Z"
                },
                "tags": []
            },
            "outputs": [],
            "source": [
                "df.head()"
            ]
        },
        {
            "cell_type": "markdown",
            "id": "27471c1f-f1c3-4bfe-a8a5-6276c2d95024",
            "metadata": {
                "tags": []
            },
            "source": [
                "## Separate into training, validation and test sets\n",
                "\n",
                "As part of preparing the data, each visit has already been allocated into one of three sets - training, vaidation and test sets. "
            ]
        },
        {
            "cell_type": "code",
            "execution_count": null,
            "id": "4714fce0-1edd-4611-961a-219cfee87033",
            "metadata": {
                "execution": {
                    "iopub.execute_input": "2024-04-15T10:16:45.094672Z",
                    "iopub.status.busy": "2024-04-15T10:16:45.094119Z",
                    "iopub.status.idle": "2024-04-15T10:16:45.132827Z",
                    "shell.execute_reply": "2024-04-15T10:16:45.131729Z",
                    "shell.execute_reply.started": "2024-04-15T10:16:45.094636Z"
                },
                "tags": []
            },
            "outputs": [],
            "source": [
                "df.training_validation_test.value_counts()"
            ]
        },
        {
            "cell_type": "code",
            "execution_count": null,
            "id": "7e601d67-1588-48ee-816e-d387fde88e61",
            "metadata": {
                "execution": {
                    "iopub.execute_input": "2024-05-11T10:33:59.365201Z",
                    "iopub.status.busy": "2024-05-11T10:33:59.363874Z",
                    "iopub.status.idle": "2024-05-11T10:33:59.453196Z",
                    "shell.execute_reply": "2024-05-11T10:33:59.452180Z",
                    "shell.execute_reply.started": "2024-05-11T10:33:59.365149Z"
                },
                "tags": []
            },
            "outputs": [],
            "source": [
                "train_df = df[df.training_validation_test == 'train']#.drop(columns='training_validation_test')\n",
                "valid_df = df[df.training_validation_test == 'valid']#.drop(columns='training_validation_test')\n",
                "test_df = df[df.training_validation_test == 'test']#.drop(columns='training_validation_test')\n",
                "\n",
                "\n",
                "train_df['ed_visit_start_dttm'] = pd.to_datetime(train_df['ed_visit_start_dttm'], utc = True)\n",
                "train_df.set_index('ed_visit_start_dttm', inplace=True)"
            ]
        },
        {
            "cell_type": "code",
            "execution_count": null,
            "id": "1f2279da-5285-4045-80ad-18e127bba698",
            "metadata": {
                "execution": {
                    "iopub.execute_input": "2024-04-15T10:23:39.324702Z",
                    "iopub.status.busy": "2024-04-15T10:23:39.324150Z",
                    "iopub.status.idle": "2024-04-15T10:23:39.376503Z",
                    "shell.execute_reply": "2024-04-15T10:23:39.375603Z",
                    "shell.execute_reply.started": "2024-04-15T10:23:39.324665Z"
                }
            },
            "outputs": [],
            "source": [
                "isinstance(train_df.index, pd.DatetimeIndex)"
            ]
        },
        {
            "cell_type": "markdown",
            "id": "71006ea6-6115-40db-9537-cdc786bf7505",
            "metadata": {},
            "source": [
                "## Train the Poisson-Binomial model"
            ]
        },
        {
            "cell_type": "code",
            "execution_count": null,
            "id": "44c85a7a-b60e-400c-b39a-012734a01d79",
            "metadata": {
                "execution": {
                    "iopub.execute_input": "2024-04-15T10:17:07.480113Z",
                    "iopub.status.busy": "2024-04-15T10:17:07.479519Z",
                    "iopub.status.idle": "2024-04-15T10:17:07.532975Z",
                    "shell.execute_reply": "2024-04-15T10:17:07.531973Z",
                    "shell.execute_reply.started": "2024-04-15T10:17:07.480072Z"
                },
                "tags": []
            },
            "outputs": [],
            "source": [
                "config"
            ]
        },
        {
            "cell_type": "code",
            "execution_count": null,
            "id": "6af2ba86-0391-42be-9685-453de5406ca5",
            "metadata": {
                "execution": {
                    "iopub.execute_input": "2024-05-11T10:34:08.344913Z",
                    "iopub.status.busy": "2024-05-11T10:34:08.343582Z",
                    "iopub.status.idle": "2024-05-11T10:34:08.349545Z",
                    "shell.execute_reply": "2024-05-11T10:34:08.348530Z",
                    "shell.execute_reply.started": "2024-05-11T10:34:08.344878Z"
                },
                "tags": []
            },
            "outputs": [],
            "source": [
                "from predict.emergency_demand.poisson_binomial_predictor import PoissonBinomialPredictor"
            ]
        },
        {
            "cell_type": "markdown",
            "id": "10f7d766-929a-4ed3-bb91-bb39b4439128",
            "metadata": {},
            "source": [
                "### Train a model for all admission, irrespective of specialty of admission"
            ]
        },
        {
            "cell_type": "code",
            "execution_count": null,
            "id": "d853b3a1-4732-45d2-8df8-bc6a5570d2ea",
            "metadata": {
                "execution": {
                    "iopub.execute_input": "2024-05-11T10:27:57.643244Z",
                    "iopub.status.busy": "2024-05-11T10:27:57.641994Z",
                    "iopub.status.idle": "2024-05-11T10:27:57.750951Z",
                    "shell.execute_reply": "2024-05-11T10:27:57.750074Z",
                    "shell.execute_reply.started": "2024-05-11T10:27:57.643192Z"
                },
                "tags": []
            },
            "outputs": [],
            "source": [
                "from predict.emergency_demand.poisson_binomial_predictor import PoissonBinomialPredictor\n",
                "from joblib import dump, load\n",
                "\n",
                "model =  PoissonBinomialPredictor()\n",
                "\n",
                "model.fit(train_df, prediction_window, time_interval, prediction_times)\n",
                "\n",
                "MODEL__ED_YETTOARRIVE__NAME = 'ed_yet_to_arrive_all_' + str(int(prediction_window/60)) + '_hours'\n",
                "full_path = model_file_path / MODEL__ED_YETTOARRIVE__NAME \n",
                "full_path = full_path.with_suffix('.joblib')\n",
                "\n",
                "dump(model, full_path)"
            ]
        },
        {
            "cell_type": "code",
            "execution_count": null,
            "id": "d9f15478-7422-4667-9941-7742fadb08e2",
            "metadata": {
                "execution": {
                    "iopub.execute_input": "2024-05-11T10:16:40.310609Z",
                    "iopub.status.busy": "2024-05-11T10:16:40.309710Z",
                    "iopub.status.idle": "2024-05-11T10:16:40.366227Z",
                    "shell.execute_reply": "2024-05-11T10:16:40.364549Z",
                    "shell.execute_reply.started": "2024-05-11T10:16:40.310572Z"
                },
                "tags": []
            },
            "outputs": [],
            "source": [
                "weights = model.get_weights()\n"
            ]
        },
        {
            "cell_type": "code",
            "execution_count": null,
            "id": "ffa752f3-6b7e-49ab-b32e-0a16a8689798",
            "metadata": {
                "execution": {
                    "iopub.execute_input": "2024-05-11T10:23:49.576372Z",
                    "iopub.status.busy": "2024-05-11T10:23:49.575922Z",
                    "iopub.status.idle": "2024-05-11T10:23:49.890133Z",
                    "shell.execute_reply": "2024-05-11T10:23:49.888618Z",
                    "shell.execute_reply.started": "2024-05-11T10:23:49.576334Z"
                },
                "tags": []
            },
            "outputs": [],
            "source": [
                "\n",
                "\n",
                "print(x1)\n",
                "print(x2)\n",
                "\n",
                "preds = model.predict(prediction_context, x1, y1, x2, y2)\n",
                "\n",
                "preds['default'].head(10)#['agg_proba']"
            ]
        },
        {
            "cell_type": "code",
            "execution_count": null,
            "id": "c7e6481b-a0a9-48a3-9616-f9c0baf95a94",
            "metadata": {
                "execution": {
                    "iopub.execute_input": "2024-05-11T10:29:22.056404Z",
                    "iopub.status.busy": "2024-05-11T10:29:22.055346Z",
                    "iopub.status.idle": "2024-05-11T10:29:22.354282Z",
                    "shell.execute_reply": "2024-05-11T10:29:22.353176Z",
                    "shell.execute_reply.started": "2024-05-11T10:29:22.056368Z"
                },
                "tags": []
            },
            "outputs": [],
            "source": [
                "prediction_context = {\n",
                "    'default': {\n",
                "        'prediction_time': tuple([7, 0])  \n",
                "    }\n",
                "}\n",
                "\n",
                "x1 = float(config['x1'])\n",
                "y1 = float(config['y1'])\n",
                "x2 = float(config['x2'])\n",
                "y2 = float(config['y2'])\n",
                "\n",
                "MODEL__ED_YETTOARRIVE__NAME = 'ed_yet_to_arrive_all_' + str(int(prediction_window/60)) + '_hours'\n",
                "full_path = model_file_path / MODEL__ED_YETTOARRIVE__NAME \n",
                "full_path = full_path.with_suffix('.joblib')\n",
                "\n",
                "model = load(full_path)\n",
                "\n",
                "preds = model.predict(prediction_context, x1, y1, x2, y2)\n"
            ]
        },
        {
            "cell_type": "markdown",
            "id": "48e4ea43-9725-4c44-8245-4ed048ddb762",
            "metadata": {},
            "source": [
                "### Predict within specialty"
            ]
        },
        {
            "cell_type": "code",
            "execution_count": null,
            "id": "e1ed1e9d-7520-4400-80ee-6c846e2b7f31",
            "metadata": {
                "execution": {
                    "iopub.execute_input": "2024-05-11T10:34:29.977535Z",
                    "iopub.status.busy": "2024-05-11T10:34:29.976921Z",
                    "iopub.status.idle": "2024-05-11T10:34:30.121916Z",
                    "shell.execute_reply": "2024-05-11T10:34:30.120728Z",
                    "shell.execute_reply.started": "2024-05-11T10:34:29.977499Z"
                },
                "tags": []
            },
            "outputs": [],
            "source": [
                "from predict.emergency_demand.poisson_binomial_predictor import PoissonBinomialPredictor\n",
                "\n",
                "specialty_filters = {\n",
                "    'medical': {'observed_specialty': 'medical', 'is_child': False},\n",
                "    'surgical': {'observed_specialty': 'surgical', 'is_child': False},\n",
                "    'haem_onc': {'observed_specialty': 'haem_onc', 'is_child': False},\n",
                "    'paediatric': {'is_child': True}  # Pediatric doesn't filter by observed_specialty\n",
                "}\n",
                "\n",
                "model_by_spec =  PoissonBinomialPredictor(filters = specialty_filters)\n",
                "\n",
                "model_by_spec.fit(train_df, prediction_window, time_interval, prediction_times)\n",
                "\n",
                "\n",
                "MODEL__ED_YETTOARRIVE__NAME = 'ed_yet_to_arrive_by_spec_' + str(int(prediction_window/60)) + '_hours'\n",
                "full_path = model_file_path / MODEL__ED_YETTOARRIVE__NAME \n",
                "full_path = full_path.with_suffix('.joblib')\n",
                "\n",
                "dump(model_by_spec, full_path)"
            ]
        },
        {
            "cell_type": "markdown",
            "metadata": {},
            "source": []
        },
        {
            "cell_type": "code",
            "execution_count": null,
            "metadata": {},
            "outputs": [],
            "source": []
        },
        {
            "cell_type": "code",
            "execution_count": null,
            "metadata": {},
            "outputs": [],
            "source": []
        },
        {
            "cell_type": "code",
            "execution_count": null,
            "metadata": {},
            "outputs": [],
            "source": []
        },
        {
            "cell_type": "code",
            "execution_count": null,
            "metadata": {},
            "outputs": [],
            "source": []
        },
        {
            "cell_type": "markdown",
            "metadata": {},
            "source": []
        },
        {
            "cell_type": "code",
            "execution_count": null,
            "metadata": {},
            "outputs": [],
            "source": []
        },
        {
            "cell_type": "markdown",
            "metadata": {},
            "source": []
        },
        {
            "cell_type": "code",
            "execution_count": null,
            "metadata": {},
            "outputs": [],
            "source": []
        },
        {
            "cell_type": "code",
            "execution_count": null,
            "metadata": {},
            "outputs": [],
            "source": []
        },
        {
            "cell_type": "markdown",
            "metadata": {},
            "source": []
        },
        {
            "cell_type": "code",
            "execution_count": null,
            "metadata": {},
            "outputs": [],
            "source": []
        },
        {
            "cell_type": "markdown",
            "metadata": {},
            "source": []
        },
        {
            "cell_type": "code",
            "execution_count": null,
            "metadata": {},
            "outputs": [],
            "source": []
        },
        {
            "cell_type": "markdown",
            "metadata": {},
            "source": []
        },
        {
            "cell_type": "code",
            "execution_count": null,
            "metadata": {},
            "outputs": [],
            "source": []
        },
        {
            "cell_type": "markdown",
            "metadata": {},
            "source": []
        },
        {
            "cell_type": "code",
            "execution_count": null,
            "metadata": {},
            "outputs": [],
            "source": []
        },
        {
            "cell_type": "markdown",
            "metadata": {},
            "source": []
        },
        {
            "cell_type": "code",
            "execution_count": null,
            "metadata": {},
            "outputs": [],
            "source": []
        },
        {
            "cell_type": "code",
            "execution_count": null,
            "metadata": {},
            "outputs": [],
            "source": []
        },
        {
            "cell_type": "markdown",
            "metadata": {},
            "source": []
        },
        {
            "cell_type": "code",
            "execution_count": null,
            "metadata": {},
            "outputs": [],
            "source": []
        },
        {
            "cell_type": "markdown",
            "metadata": {},
            "source": []
        },
        {
            "cell_type": "code",
            "execution_count": null,
            "metadata": {},
            "outputs": [],
            "source": []
        },
        {
            "cell_type": "markdown",
            "metadata": {},
            "source": []
        },
        {
            "cell_type": "markdown",
            "metadata": {},
            "source": []
        },
        {
            "cell_type": "markdown",
            "metadata": {},
            "source": []
        },
        {
            "cell_type": "code",
            "execution_count": null,
            "metadata": {},
            "outputs": [],
            "source": []
        },
        {
            "cell_type": "code",
            "execution_count": null,
            "metadata": {},
            "outputs": [],
            "source": []
        },
        {
            "cell_type": "code",
            "execution_count": null,
            "metadata": {},
            "outputs": [],
            "source": []
        },
        {
            "cell_type": "code",
            "execution_count": null,
            "metadata": {},
            "outputs": [],
            "source": []
        },
        {
            "cell_type": "code",
            "execution_count": null,
            "metadata": {},
            "outputs": [],
            "source": []
        },
        {
            "cell_type": "code",
            "execution_count": null,
            "metadata": {},
            "outputs": [],
            "source": []
        },
        {
            "cell_type": "code",
            "execution_count": null,
            "id": "93c40535-c92f-4d0a-9404-6511038a0bd9",
            "metadata": {
                "execution": {
                    "iopub.execute_input": "2024-05-11T10:35:01.862884Z",
                    "iopub.status.busy": "2024-05-11T10:35:01.862341Z",
                    "iopub.status.idle": "2024-05-11T10:35:02.100245Z",
                    "shell.execute_reply": "2024-05-11T10:35:02.099214Z",
                    "shell.execute_reply.started": "2024-05-11T10:35:01.862851Z"
                },
                "tags": []
            },
            "outputs": [],
            "source": [
                "MODEL__ED_YETTOARRIVE__NAME = 'ed_yet_to_arrive_by_spec_' + str(int(prediction_window/60)) + '_hours'\n",
                "full_path = model_file_path / MODEL__ED_YETTOARRIVE__NAME \n",
                "full_path = full_path.with_suffix('.joblib')\n",
                "\n",
                "model_by_spec = load(full_path)\n",
                "\n",
                "x1 = float(config['x1'])\n",
                "y1 = float(config['y1'])\n",
                "x2 = float(config['x2'])\n",
                "y2 = float(config['y2'])\n",
                "\n",
                "prediction_context = {\n",
                "    'medical': {\n",
                "        'prediction_time': tuple([7, 0])  \n",
                "    }\n",
                "}\n",
                "\n",
                "preds = model_by_spec.predict(prediction_context, x1, y1, x2, y2)\n",
                "preds['medical']"
            ]
        }
    ],
    "metadata": {
        "kernelspec": {
            "display_name": "Python 3",
            "language": "python",
            "name": "python3"
        },
        "language_info": {
            "codemirror_mode": {
                "name": "ipython",
                "version": 3
            },
            "file_extension": ".py",
            "mimetype": "text/x-python",
            "name": "python",
            "nbconvert_exporter": "python",
            "pygments_lexer": "ipython3",
            "version": "3.9.5"
        }
    },
    "nbformat": 4,
    "nbformat_minor": 5
}
